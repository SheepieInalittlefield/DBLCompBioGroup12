{
 "cells": [
  {
   "cell_type": "code",
   "execution_count": 1,
   "metadata": {},
   "outputs": [],
   "source": [
    "%load_ext autoreload\n",
    "%autoreload 2\n",
    "import util_decode as util\n",
    "import reedsolo\n",
    "import random"
   ]
  },
  {
   "cell_type": "code",
   "execution_count": 7,
   "metadata": {},
   "outputs": [],
   "source": [
    "with open(\"file.txt\", 'r') as f:\n",
    "    dropletlist = [line.rstrip('\\n') for line in f]\n",
    "#open the DNA strand file\n",
    "\n",
    "data = dropletlist\n",
    "total_segments = 15399 # moet geen variabele meer zijn\n",
    "#put the accepted droplets in list \n",
    "OKdroplets = []\n",
    "\n",
    "for strand in data:\n",
    "    if util.CheckBiochemicalRequirements(strand):\n",
    "        if util.check_oligo_length(strand):\n",
    "            OKdroplets.append(strand)\n",
    "#check if all the droplets meet our requirements otherwise don't add them to the list of OKdroplets\n",
    "        \n",
    "simplified_droplets = []\n",
    "rsc = reedsolo.RSCodec(2)\n",
    "for strand in OKdroplets:\n",
    "    binary_strand = util.DNA2Binary(strand)\n",
    "    bytearray_strand = util.number_2_bytearray(binary_strand)\n",
    "#convert the list of strings to a bytearray \n",
    "    if rsc.check(bytearray_strand):\n",
    "        segment_amount, segment_indices = util.recover_seed(bytearray_strand, total_segments)\n",
    "        payload = util.bytearray_to_binary(bytearray_strand)[32:288]\n",
    "        simplified_droplets.append((segment_indices, payload))\n",
    "#if the strand is correct according to reed-solomon, make a list including the segment indices of the droplet and #their combined XOR\n",
    "\n",
    "output_data = {}\n",
    "output_data = util.Decoding_step1and2(simplified_droplets, output_data)\n",
    "#decode the list with the indices and their payload  "
   ]
  },
  {
   "cell_type": "code",
   "execution_count": 5,
   "metadata": {},
   "outputs": [
    {
     "data": {
      "text/plain": [
       "([12809, 8300, 1992, 11935, 1635, 4691],\n",
       " '1110001001111010000110110010011011010100111110011000100011100011100000110100111000100000001000011100111011100010011001011100000100100111111110100000010000101100100001001011100111101110010101101001000000010011100101111011000101111011101111110100001110110001')"
      ]
     },
     "execution_count": 5,
     "metadata": {},
     "output_type": "execute_result"
    }
   ],
   "source": []
  },
  {
   "cell_type": "code",
   "execution_count": 8,
   "metadata": {},
   "outputs": [
    {
     "data": {
      "text/plain": [
       "15399"
      ]
     },
     "execution_count": 8,
     "metadata": {},
     "output_type": "execute_result"
    }
   ],
   "source": [
    "len(output_data)"
   ]
  }
 ],
 "metadata": {
  "kernelspec": {
   "display_name": "Python 3",
   "language": "python",
   "name": "python3"
  },
  "language_info": {
   "codemirror_mode": {
    "name": "ipython",
    "version": 3
   },
   "file_extension": ".py",
   "mimetype": "text/x-python",
   "name": "python",
   "nbconvert_exporter": "python",
   "pygments_lexer": "ipython3",
   "version": "3.8.5"
  }
 },
 "nbformat": 4,
 "nbformat_minor": 2
}
