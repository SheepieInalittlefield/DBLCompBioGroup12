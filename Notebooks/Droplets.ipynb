{
 "cells": [
  {
   "cell_type": "markdown",
   "metadata": {},
   "source": [
    "First convert the output of segmentation into a list of byte arrays instead of a list of binary numbers (this can also be done more directly obviously, but for now it works. "
   ]
  },
  {
   "cell_type": "code",
   "execution_count": 1,
   "metadata": {},
   "outputs": [],
   "source": [
    "def number_2_bytearray(num): \n",
    "    return bytearray(int(num,2).to_bytes((len(num)+7) // 8, byteorder='big'))"
   ]
  },
  {
   "cell_type": "markdown",
   "metadata": {},
   "source": [
    "Let's take the example data as it is output by segmentation"
   ]
  },
  {
   "cell_type": "code",
   "execution_count": 2,
   "metadata": {},
   "outputs": [],
   "source": [
    "data = ['0100100001100101011011000110110001101111001000000111011101101111011100100110110001100100001011000010000001001000011001010110110001101100011011110010000001110111011011110111001001101100011001000010110000100000010010000110010101101100011011000110111100100000',\n",
    "'0111011101101111011100100110110001100100001011000010000001001000011001010110110001101100011011110010000001110111011011110111001001101100011001000010110000100000010010000110010101101100011011000110111100100000011101110110111101110010011011000110010000101100', '0010000001001000011001010110110001101100011011110010000001110111011011110111001001101100011001000010110000100000010010000110010101101100011011000110111100100000011101110110111101110010011011000110010000101100001000000100100001100101011011000110110001101111', '0010000001110111011011110111001001101100011001000010110000100000010010000110010101101100011011000110111100100000011101110110111101110010011011000110010000101100001000000100100001100101011011000110110001101111001000000111011101101111011100100110110001100100', '0010110000100000010010000110010101101100011011000110111100100000011101110110111101110010011011000110010000101100001000000100100001100101011011000110110001101111001000000111011101101111011100100110110001100100001011000010000001001000011001010110110001101100', '0110111100100000011101110110111101110010011011000110010000101100001000000100100001100101011011000110110001101111001000000111011101101111011100100110110001100100001011000010000001001000011001010110110001101100011011110010000001110111011011110111001001101100', '0110010000101100001000000100100001100101011011000110110001101111001000000111011101101111011100100110110001100100001011000010000001001000011001010110110001101100011011110010000001110111011011110111001001101100011001000010110000100000010010000110010101101100', '0110110001101111001000000111011101101111011100100110110001100100001011000010000001001000011001010110110001101100011011110010000001110111011011110111001001101100011001000010110000100000010010000110010101101100011011000110111100100000011101110110111101110010', '0110110001100100000000000000000000000000000000000000000000000000000000000000000000000000000000000000000000000000000000000000000000000000000000000000000000000000000000000000000000000000000000000000000000000000000000000000000000000000000000000000000000000000']"
   ]
  },
  {
   "cell_type": "code",
   "execution_count": 3,
   "metadata": {},
   "outputs": [
    {
     "data": {
      "text/plain": [
       "[bytearray(b'Hello world, Hello world, Hello '),\n",
       " bytearray(b'world, Hello world, Hello world,'),\n",
       " bytearray(b' Hello world, Hello world, Hello'),\n",
       " bytearray(b' world, Hello world, Hello world'),\n",
       " bytearray(b', Hello world, Hello world, Hell'),\n",
       " bytearray(b'o world, Hello world, Hello worl'),\n",
       " bytearray(b'd, Hello world, Hello world, Hel'),\n",
       " bytearray(b'lo world, Hello world, Hello wor'),\n",
       " bytearray(b'ld\\x00\\x00\\x00\\x00\\x00\\x00\\x00\\x00\\x00\\x00\\x00\\x00\\x00\\x00\\x00\\x00\\x00\\x00\\x00\\x00\\x00\\x00\\x00\\x00\\x00\\x00\\x00\\x00\\x00\\x00')]"
      ]
     },
     "execution_count": 3,
     "metadata": {},
     "output_type": "execute_result"
    }
   ],
   "source": [
    "data_bytearray = []\n",
    "for i in data:\n",
    "    data_bytearray.append(number_2_bytearray(i))\n",
    "data_bytearray"
   ]
  },
  {
   "cell_type": "markdown",
   "metadata": {},
   "source": [
    "Now we can start using this to implement the formation of seeds. For now I'm just going to be using the robust solition distribution as described in the original paper, if we want we can later always change this distribution depending on what we think necessary. Also, since the implementation of the LFSR is implemented seperately. I will assume I am given a seed and need to generate the corresponding droplet."
   ]
  },
  {
   "cell_type": "code",
   "execution_count": 4,
   "metadata": {},
   "outputs": [],
   "source": [
    "import random\n",
    "import math\n",
    "import numpy as np\n",
    "import functools\n",
    "test_seed = 454761243\n",
    "# convert the test seed into the index that will be packaged into the droplet.\n",
    "# so for example with seed = 7 = 00000000 00000000 00000000 00000111. we create a byte array of these bytes.\n",
    "# first convert to bytearray.\n",
    "seed_array = bytearray(number_2_bytearray(bin(test_seed)))\n",
    "if len(seed_array) < 4:  \n",
    "    seed_index = bytearray(4-len(seed_array)) + seed_array\n",
    "elif len(seed_array) > 4:\n",
    "    if seed_array[0] == 0:\n",
    "        del seed_array[0]\n",
    "        seed_index = seed_array\n",
    "    else:\n",
    "        print(\"seed too big\")\n",
    "# create a Pseudo random number generator\n",
    "prng = random.Random()\n"
   ]
  },
  {
   "cell_type": "markdown",
   "metadata": {},
   "source": [
    "In order to use a rng to select following a specific distribution, we first need to calculate this distribution. Since the robus soliton distribution is the ideal soliton distribution plus some additional probabilities and normalized, we first calculate the ideal solition distribution. Using the formulas p(1) = 1/K and p(i) = 1/(i*(i-1)). (code inspiration from https://franpapers.com/en/algorithmic/2018-introduction-to-fountain-codes-lt-codes-with-python/) but rewritten so I can actually understand it LOL"
   ]
  },
  {
   "cell_type": "code",
   "execution_count": 5,
   "metadata": {},
   "outputs": [],
   "source": [
    "def ideal_soliton(K) -> list: \n",
    "    # initialize with the first two values, p(0) = 0 and p(1) = 1/K\n",
    "    probabilities = [0,1/K]\n",
    "    # calculate the rest of the values using p(i) = 1/(i*(i-1))\n",
    "    probabilities += [1/(i*(i-1)) for i in range(2, K+1)]\n",
    "    return probabilities "
   ]
  },
  {
   "cell_type": "markdown",
   "metadata": {},
   "source": [
    "We can now use this to define our robust solition distribution, by adding the following probabilities. For i = 1 to K/R-1: p(i) = R/(i*K), for i = K/R: p(i) = (R*ln(R/delta))/K and for i = K/R+1 to K: p(i) = 0. With R = c*ln^2(K/delta)*sqrt(K).\n",
    "as you can tell this now adds to more parameters c and delta to the distribution. These need to be tuned to achieve optimal decoding capability."
   ]
  },
  {
   "cell_type": "code",
   "execution_count": 34,
   "metadata": {},
   "outputs": [
    {
     "name": "stdout",
     "output_type": "stream",
     "text": [
      "145.36730512712447 [0, 0.006879125943247657, 0.0034395629716238284, 0.0022930419810825524, 0.0017197814858119142, 0.0013758251886495313, 0.0011465209905412762, 0.0009827322776068083, 0.0008598907429059571, 0.0007643473270275174, 0.0006879125943247657, 0.000625375085749787, 0.0005732604952706381, 0.0005291635340959736, 0.0004913661388034041, 0.00045860839621651044, 0.00042994537145297856, 0.0004046544672498622, 0.0003821736635137587, 0.0003620592601709293, 0.00034395629716238283, 0.00032757742586893605, 0.0003126875428748935, 0.0002990924323151155, 0.00028663024763531906, 0.0002751650377299063, 0.0002645817670479868, 0.00025478244234250583, 0.00024568306940170206, 0.000237211239422333, 0.00022930419810825522, 0.0002219072884918599, 0.00021497268572648928, 0.00020845836191659567, 0.0002023272336249311, 0.00019654645552136162, 0.00019108683175687936, 0.00018592232279047722, 0.00018102963008546466, 0.00017638784469865788, 0.00017197814858119142, 0.00016778355959140627, 0.00016378871293446802, 0.00015997967309878272, 0.00015634377143744675, 0.0001528694654055035, 0.00014954621615755775, 0.00014636438177122676, 0.00014331512381765953, 0.00014039032537240117, 0.00013758251886495314, 0.00013488482241662072, 0.0001322908835239934, 0.00012979482911788033, 0.00012739122117125292, 0.0001250750171499574, 0.00012284153470085103, 0.00012068642005697644, 0.0001186056197111665, 0.00011659535497029927, 0.00011465209905412761, 0.0001127725564466829, 0.00011095364424592995, 0.00010919247528964535, 0.00010748634286324464, 0.00010583270681919473, 0.00010422918095829783, 0.00010267352154100981, 0.00010116361681246554, 9.969747743837184e-05, 9.827322776068081e-05, 9.688909779222052e-05, 9.554341587843968e-05, 9.423460196229667e-05, 9.296116139523861e-05, 9.172167924330209e-05, 9.051481504273233e-05, 8.933929796425529e-05, 8.819392234932894e-05, 8.707754358541338e-05, 8.598907429059571e-05, 8.492748078083528e-05, 8.389177979570313e-05, 8.288103546081515e-05, 8.189435646723401e-05, 8.093089344997244e-05, 7.998983654939136e-05, 7.907041314077767e-05, 7.817188571872337e-05, 7.729354992413098e-05, 7.643473270275175e-05, 7.559479058513908e-05, 7.477310807877887e-05, 7.39690961639533e-05, 7.318219088561338e-05, 7.241185203418586e-05, 7.165756190882976e-05, 7.091882415719234e-05, 7.019516268620059e-05, 6.948612063886522e-05, 6.879125943247657e-05, 6.81101578539372e-05, 6.744241120831036e-05, 6.678763051696754e-05, 6.61454417619967e-05, 6.551548517378721e-05, 6.489741455894017e-05, 6.429089666586596e-05, 6.369561058562646e-05, 6.311124718575833e-05, 6.25375085749787e-05, 6.197410759682574e-05, 6.142076735042552e-05, 6.087722073670493e-05, 6.034321002848822e-05, 5.9818486463023105e-05, 5.930280985558325e-05, 5.879594823288596e-05, 5.829767748514963e-05, 5.78077810356946e-05, 5.7326049527063806e-05, 5.685228052270791e-05, 5.638627822334145e-05, 5.592785319713542e-05, 5.5476822122964976e-05, 5.5033007545981255e-05, 5.4596237644822675e-05, 5.4166346009824074e-05, 5.374317143162232e-05, 5.332655769959424e-05, 5.291635340959736e-05, 5.2512411780516465e-05, 5.211459047914892e-05, 5.1722751452989905e-05, 5.1336760770504906e-05, 5.095648846850116e-05, 5.058180840623277e-05, 5.021259812589531e-05, 4.984873871918592e-05, 4.949011469962343e-05, 4.9136613880340406e-05, 4.878812725707558e-05, 4.844454889611026e-05, 4.810577582690669e-05, 4.777170793921984e-05, 0.022802830106557145]\n"
     ]
    },
    {
     "ename": "ValueError",
     "evalue": "operands could not be broadcast together with shapes (146,) (101,) ",
     "output_type": "error",
     "traceback": [
      "\u001b[1;31m---------------------------------------------------------------------------\u001b[0m",
      "\u001b[1;31mValueError\u001b[0m                                Traceback (most recent call last)",
      "\u001b[1;32m<ipython-input-34-e3dd10d3db97>\u001b[0m in \u001b[0;36m<module>\u001b[1;34m\u001b[0m\n\u001b[0;32m     16\u001b[0m     \u001b[0mprobabilities\u001b[0m \u001b[1;33m/=\u001b[0m \u001b[0msum\u001b[0m\u001b[1;33m(\u001b[0m\u001b[0mprobabilities\u001b[0m\u001b[1;33m)\u001b[0m\u001b[1;33m\u001b[0m\u001b[1;33m\u001b[0m\u001b[0m\n\u001b[0;32m     17\u001b[0m     \u001b[1;32mreturn\u001b[0m \u001b[0mprobabilities\u001b[0m\u001b[1;33m\u001b[0m\u001b[1;33m\u001b[0m\u001b[0m\n\u001b[1;32m---> 18\u001b[1;33m \u001b[0mplt\u001b[0m\u001b[1;33m.\u001b[0m\u001b[0mbar\u001b[0m\u001b[1;33m(\u001b[0m\u001b[0mrange\u001b[0m\u001b[1;33m(\u001b[0m\u001b[1;36m0\u001b[0m\u001b[1;33m,\u001b[0m\u001b[1;36m101\u001b[0m\u001b[1;33m)\u001b[0m\u001b[1;33m,\u001b[0m \u001b[0mrobust_soliton\u001b[0m\u001b[1;33m(\u001b[0m\u001b[1;36m100\u001b[0m\u001b[1;33m,\u001b[0m\u001b[1;36m0.001\u001b[0m\u001b[1;33m,\u001b[0m\u001b[1;36m0.025\u001b[0m\u001b[1;33m)\u001b[0m\u001b[1;33m)\u001b[0m\u001b[1;33m\u001b[0m\u001b[1;33m\u001b[0m\u001b[0m\n\u001b[0m",
      "\u001b[1;32m<ipython-input-34-e3dd10d3db97>\u001b[0m in \u001b[0;36mrobust_soliton\u001b[1;34m(K, c, delta)\u001b[0m\n\u001b[0;32m     12\u001b[0m     \u001b[1;31m# add together\u001b[0m\u001b[1;33m\u001b[0m\u001b[1;33m\u001b[0m\u001b[1;33m\u001b[0m\u001b[0m\n\u001b[0;32m     13\u001b[0m     \u001b[0mprint\u001b[0m\u001b[1;33m(\u001b[0m\u001b[0mK\u001b[0m\u001b[1;33m/\u001b[0m\u001b[0mR\u001b[0m\u001b[1;33m,\u001b[0m \u001b[0mrobust_probabilities\u001b[0m\u001b[1;33m)\u001b[0m\u001b[1;33m\u001b[0m\u001b[1;33m\u001b[0m\u001b[0m\n\u001b[1;32m---> 14\u001b[1;33m     \u001b[0mprobabilities\u001b[0m \u001b[1;33m=\u001b[0m \u001b[0mnp\u001b[0m\u001b[1;33m.\u001b[0m\u001b[0madd\u001b[0m\u001b[1;33m(\u001b[0m\u001b[0mrobust_probabilities\u001b[0m\u001b[1;33m,\u001b[0m \u001b[0mprobabilities\u001b[0m\u001b[1;33m)\u001b[0m\u001b[1;33m\u001b[0m\u001b[1;33m\u001b[0m\u001b[0m\n\u001b[0m\u001b[0;32m     15\u001b[0m     \u001b[1;31m#normalize\u001b[0m\u001b[1;33m\u001b[0m\u001b[1;33m\u001b[0m\u001b[1;33m\u001b[0m\u001b[0m\n\u001b[0;32m     16\u001b[0m     \u001b[0mprobabilities\u001b[0m \u001b[1;33m/=\u001b[0m \u001b[0msum\u001b[0m\u001b[1;33m(\u001b[0m\u001b[0mprobabilities\u001b[0m\u001b[1;33m)\u001b[0m\u001b[1;33m\u001b[0m\u001b[1;33m\u001b[0m\u001b[0m\n",
      "\u001b[1;31mValueError\u001b[0m: operands could not be broadcast together with shapes (146,) (101,) "
     ]
    }
   ],
   "source": [
    "import matplotlib.pyplot as plt\n",
    "def robust_soliton(K,c,delta) -> list:\n",
    "    #initialize with the ideal distribution\n",
    "    probabilities = ideal_soliton(K)\n",
    "    # Define R\n",
    "    R = c*(math.log(K/delta)**2)*math.sqrt(K)\n",
    "    # calculate the additional probabilities\n",
    "    pivot = int(math.floor(K/R))\n",
    "    robust_probabilities = [0] + [R/(i*K) for i in range(1, pivot)]\n",
    "    robust_probabilities += [(R*math.log(R/delta))/K]\n",
    "    robust_probabilities += [0 for i in range(pivot,K)]\n",
    "    # add together\n",
    "    print(K/R, robust_probabilities)\n",
    "    probabilities = np.add(robust_probabilities, probabilities)\n",
    "    #normalize \n",
    "    probabilities /= sum(probabilities)\n",
    "    return probabilities\n",
    "plt.bar(range(0,101), robust_soliton(100,0.001,0.025))"
   ]
  },
  {
   "cell_type": "markdown",
   "metadata": {},
   "source": [
    "We can then take a selection from this distribution using the python choices() method. This will tell us how many segments to include in a droplet. We can then use the choices() method again to select which segments will be included. (the bit about max_choices is only necessary cause the sample data is very small, but might be something to consider because small amounts of data can cause issues here.) "
   ]
  },
  {
   "cell_type": "code",
   "execution_count": null,
   "metadata": {},
   "outputs": [],
   "source": [
    "prng.seed(test_seed)\n",
    "max_choices = len(data_bytearray)\n",
    "amount = prng.choices(range(0,101), robust_soliton(100,0.1,0.05), k = 1)[0]\n",
    "segments = prng.sample(data_bytearray,k = amount)"
   ]
  },
  {
   "cell_type": "markdown",
   "metadata": {},
   "source": [
    "we can then use the python reduce() method to apply our XOR to all the segments and create the final droplet, which we then append the seed to."
   ]
  },
  {
   "cell_type": "code",
   "execution_count": null,
   "metadata": {},
   "outputs": [],
   "source": [
    "# create the droplet\n",
    "droplet = seed_index + bytearray(functools.reduce(lambda i, j: bytes(a^b for (a, b) in zip(i,j)), segments))\n",
    "len(droplet) "
   ]
  },
  {
   "cell_type": "markdown",
   "metadata": {},
   "source": [
    "Last but not least we can add the reed solomon codes."
   ]
  },
  {
   "cell_type": "code",
   "execution_count": null,
   "metadata": {},
   "outputs": [],
   "source": [
    "import reedsolo \n",
    "# prepare reedsolomon\n",
    "rsc = reedsolo.RSCodec(2)\n",
    "# create the encoded droplet (what will eventually be stored in DNA)\n",
    "encoded = rsc.encode(droplet)\n",
    "# length of the encoded droplet is 38 as expected (32 data, 4 seed, 2 RS)\n",
    "print(encoded, len(encoded))"
   ]
  },
  {
   "cell_type": "markdown",
   "metadata": {},
   "source": [
    "try to recover droplets from the seed."
   ]
  },
  {
   "cell_type": "code",
   "execution_count": null,
   "metadata": {},
   "outputs": [],
   "source": [
    "prng.seed(test_seed)\n",
    "amount_recovery = prng.choices(range(0,max_choices+1), robust_soliton(max_choices,0.1,0.05), k = 1)[0]\n",
    "assert amount_recovery == amount \n",
    "#I can't think of a way to do this without having prior knowledge of the amount of stored data... something to discuss\n",
    "segment_indices = prng.sample(range(len(data_bytearray)), k = amount_recovery)\n",
    "segment_test = []\n",
    "for i in segment_indices:\n",
    "    segment_test.append(data_bytearray[i])\n",
    "assert segment_test == segments\n",
    "print(amount_recovery, segment_indices)"
   ]
  },
  {
   "cell_type": "code",
   "execution_count": null,
   "metadata": {},
   "outputs": [],
   "source": []
  }
 ],
 "metadata": {
  "kernelspec": {
   "display_name": "Python 3",
   "language": "python",
   "name": "python3"
  },
  "language_info": {
   "codemirror_mode": {
    "name": "ipython",
    "version": 3
   },
   "file_extension": ".py",
   "mimetype": "text/x-python",
   "name": "python",
   "nbconvert_exporter": "python",
   "pygments_lexer": "ipython3",
   "version": "3.8.5"
  }
 },
 "nbformat": 4,
 "nbformat_minor": 4
}
