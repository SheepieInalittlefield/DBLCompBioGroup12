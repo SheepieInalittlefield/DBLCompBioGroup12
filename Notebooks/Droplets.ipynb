{
 "cells": [
  {
   "cell_type": "markdown",
   "metadata": {},
   "source": [
    "First convert the output of segmentation into a list of byte arrays instead of a list of binary numbers (this can also be done more directly obviously, but for now it works. "
   ]
  },
  {
   "cell_type": "code",
   "execution_count": 1,
   "metadata": {},
   "outputs": [],
   "source": [
    "def number_2_bytearray(num): \n",
    "    return bytearray(int(num,2).to_bytes((len(num)+7) // 8, byteorder='big'))"
   ]
  },
  {
   "cell_type": "markdown",
   "metadata": {},
   "source": [
    "Let's take the example data as it is output by segmentation"
   ]
  },
  {
   "cell_type": "code",
   "execution_count": 2,
   "metadata": {},
   "outputs": [],
   "source": [
    "data = ['0100100001100101011011000110110001101111001000000111011101101111011100100110110001100100001011000010000001001000011001010110110001101100011011110010000001110111011011110111001001101100011001000010110000100000010010000110010101101100011011000110111100100000',\n",
    "'0111011101101111011100100110110001100100001011000010000001001000011001010110110001101100011011110010000001110111011011110111001001101100011001000010110000100000010010000110010101101100011011000110111100100000011101110110111101110010011011000110010000101100', '0010000001001000011001010110110001101100011011110010000001110111011011110111001001101100011001000010110000100000010010000110010101101100011011000110111100100000011101110110111101110010011011000110010000101100001000000100100001100101011011000110110001101111', '0010000001110111011011110111001001101100011001000010110000100000010010000110010101101100011011000110111100100000011101110110111101110010011011000110010000101100001000000100100001100101011011000110110001101111001000000111011101101111011100100110110001100100', '0010110000100000010010000110010101101100011011000110111100100000011101110110111101110010011011000110010000101100001000000100100001100101011011000110110001101111001000000111011101101111011100100110110001100100001011000010000001001000011001010110110001101100', '0110111100100000011101110110111101110010011011000110010000101100001000000100100001100101011011000110110001101111001000000111011101101111011100100110110001100100001011000010000001001000011001010110110001101100011011110010000001110111011011110111001001101100', '0110010000101100001000000100100001100101011011000110110001101111001000000111011101101111011100100110110001100100001011000010000001001000011001010110110001101100011011110010000001110111011011110111001001101100011001000010110000100000010010000110010101101100', '0110110001101111001000000111011101101111011100100110110001100100001011000010000001001000011001010110110001101100011011110010000001110111011011110111001001101100011001000010110000100000010010000110010101101100011011000110111100100000011101110110111101110010', '0110110001100100000000000000000000000000000000000000000000000000000000000000000000000000000000000000000000000000000000000000000000000000000000000000000000000000000000000000000000000000000000000000000000000000000000000000000000000000000000000000000000000000']"
   ]
  },
  {
   "cell_type": "code",
   "execution_count": 65,
   "metadata": {},
   "outputs": [
    {
     "data": {
      "text/plain": [
       "32"
      ]
     },
     "execution_count": 65,
     "metadata": {},
     "output_type": "execute_result"
    }
   ],
   "source": [
    "data_bytearray = []\n",
    "for i in data:\n",
    "    data_bytearray.append(number_2_bytearray(i))\n",
    "data_bytearray"
   ]
  },
  {
   "cell_type": "markdown",
   "metadata": {},
   "source": [
    "Now we can start using this to implement the formation of seeds. For now I'm just going to be using the robust solition distribution as described in the original paper, if we want we can later always change this distribution depending on what we think necessary. Also, since the implementation of the LFSR is implemented seperately. I will assume I am given a seed and need to generate the corresponding droplet."
   ]
  },
  {
   "cell_type": "code",
   "execution_count": 61,
   "metadata": {},
   "outputs": [],
   "source": [
    "import random\n",
    "import math\n",
    "import numpy as np\n",
    "import functools\n",
    "test_seed = 655\n",
    "# convert the test seed into the index that will be packaged into the droplet.\n",
    "# so for example with seed = 7 = 00000000 00000000 00000000 00000111. we create a byte array of these bytes.\n",
    "# first convert to bytearray.\n",
    "seed_array = bytearray(number_2_bytearray(bin(test_seed)))\n",
    "if len(seed_array) < 4:  \n",
    "    seed_index = bytearray(4-len(seed_array)) + seed_array\n",
    "elif len(seed_array) > 4:\n",
    "    if seed_array[0] == 0:\n",
    "        del seed_array[0]\n",
    "        seed_index = seed_array\n",
    "    else:\n",
    "        print(\"seed too big\")\n",
    "# create a Pseudo random number generator \n",
    "prng = random.Random()"
   ]
  },
  {
   "cell_type": "markdown",
   "metadata": {},
   "source": [
    "In order to use a rng to select following a specific distribution, we first need to calculate this distribution. Since the robus soliton distribution is the ideal soliton distribution plus some additional probabilities and normalized, we first calculate the ideal solition distribution. Using the formulas p(1) = 1/K and p(i) = 1/(i*(i-1)). (code inspiration from https://franpapers.com/en/algorithmic/2018-introduction-to-fountain-codes-lt-codes-with-python/) but rewritten so I can actually understand it LOL"
   ]
  },
  {
   "cell_type": "code",
   "execution_count": 33,
   "metadata": {},
   "outputs": [],
   "source": [
    "def ideal_soliton(K) -> list: \n",
    "    # initialize with the first two values, p(0) = 0 and p(1) = 1/K\n",
    "    probabilities = [0, 1/K]\n",
    "    # calculate the rest of the values using p(i) = 1/(i*(i-1))\n",
    "    probabilities += [1/(i*(i-1)) for i in range(2, K+1)]\n",
    "    return probabilities "
   ]
  },
  {
   "cell_type": "markdown",
   "metadata": {},
   "source": [
    "We can now use this to define our robust solition distribution, by adding the following probabilities. For i = 1 to K/R-1: p(i) = R/(i*K), for i = K/R: p(i) = (R*ln(R/delta))/K and for i = K/R+1 to K: p(i) = 0. With R = c*ln^2(K/delta)*sqrt(K).\n",
    "as you can tell this now adds to more parameters c and delta to the distribution. These need to be tuned to achieve optimal decoding capability."
   ]
  },
  {
   "cell_type": "code",
   "execution_count": 76,
   "metadata": {},
   "outputs": [
    {
     "data": {
      "text/plain": [
       "<BarContainer object of 101 artists>"
      ]
     },
     "execution_count": 76,
     "metadata": {},
     "output_type": "execute_result"
    },
    {
     "data": {
      "image/png": "[encoded data removed]",
      "text/plain": [
       "<Figure size 432x288 with 1 Axes>"
      ]
     },
     "metadata": {
      "needs_background": "light"
     },
     "output_type": "display_data"
    }
   ],
   "source": [
    "import matplotlib.pyplot as plt\n",
    "def robust_soliton(K,c,delta) -> list:\n",
    "    #initialize with the ideal distribution\n",
    "    probabilities = ideal_soliton(K)\n",
    "    # Define R\n",
    "    R = c*(math.log(K/delta))*math.sqrt(K)\n",
    "    # calculate the additional probabilities\n",
    "    robust_probabilities = [0] + [R/(i*K) for i in range(1, int(K/R)-1)]\n",
    "    robust_probabilities += [(R*math.log(R/delta))/K]\n",
    "    robust_probabilities += [0 for i in range(int(K/R),K+1)]\n",
    "    # add together\n",
    "    probabilities = np.add(robust_probabilities, probabilities)\n",
    "    #normalize \n",
    "    probabilities /= sum(probabilities)\n",
    "    return probabilities\n",
    "plt.bar(range(0,101), robust_soliton(100,0.1,0.05))"
   ]
  },
  {
   "cell_type": "markdown",
   "metadata": {},
   "source": [
    "We can then take a selection from this distribution using the python choices() method. This will tell us how many segments to include in a droplet. We can then use the choices() method again to select which segments will be included. (the bit about max_choices is only necessary cause the sample data is very small, but might be something to consider because small amounts of data can cause issues here.) "
   ]
  },
  {
   "cell_type": "code",
   "execution_count": 71,
   "metadata": {},
   "outputs": [],
   "source": [
    "prng.seed(test_seed)\n",
    "max_choices = len(data_bytearray)\n",
    "amount = prng.choices(range(0,max_choices+1), robust_soliton(max_choices,0.1,0.05), k = 1)[0]\n",
    "segments = prng.sample(data_bytearray,k = amount)"
   ]
  },
  {
   "cell_type": "markdown",
   "metadata": {},
   "source": [
    "we can then use the python reduce() method to apply our XOR to all the segments and create the final droplet, which we then append the seed to."
   ]
  },
  {
   "cell_type": "code",
   "execution_count": 72,
   "metadata": {},
   "outputs": [
    {
     "data": {
      "text/plain": [
       "bytearray(b'\\x00\\x00\\x02\\x8f \\x1ek3\\nDX\\x00m\\x11\\x15^G \\x1ek3\\nDX\\x00m\\x11\\x15^G \\x1ek3\\nD')"
      ]
     },
     "execution_count": 72,
     "metadata": {},
     "output_type": "execute_result"
    }
   ],
   "source": [
    "# create the droplet\n",
    "droplet = seed_index + bytearray(functools.reduce(lambda i, j: bytes(a^b for (a, b) in zip(i,j)), segments))\n",
    "droplet"
   ]
  },
  {
   "cell_type": "markdown",
   "metadata": {},
   "source": [
    "Last but not least we can add the reed solomon codes."
   ]
  },
  {
   "cell_type": "code",
   "execution_count": 73,
   "metadata": {},
   "outputs": [
    {
     "name": "stdout",
     "output_type": "stream",
     "text": [
      "bytearray(b'\\x00\\x00\\x02\\x8f \\x1ek3\\nDX\\x00m\\x11\\x15^G \\x1ek3\\nDX\\x00m\\x11\\x15^G \\x1ek3\\nD\\x80%') 38\n"
     ]
    }
   ],
   "source": [
    "import reedsolo \n",
    "# prepare reedsolomon\n",
    "rsc = reedsolo.RSCodec(2)\n",
    "# create the encoded droplet (what will eventually be stored in DNA)\n",
    "encoded = rsc.encode(droplet)\n",
    "# length of the encoded droplet is 38 as expected (32 data, 4 seed, 2 RS)\n",
    "print(encoded, len(encoded))"
   ]
  },
  {
   "cell_type": "markdown",
   "metadata": {},
   "source": [
    "try to recover droplets from the seed."
   ]
  },
  {
   "cell_type": "code",
   "execution_count": 74,
   "metadata": {},
   "outputs": [
    {
     "name": "stdout",
     "output_type": "stream",
     "text": [
      "4 [3, 4, 0, 6]\n"
     ]
    }
   ],
   "source": [
    "prng.seed(test_seed)\n",
    "amount_recovery = prng.choices(range(0,max_choices+1), robust_soliton(max_choices,0.1,0.05), k = 1)[0]\n",
    "assert amount_recovery == amount \n",
    "#I can't think of a way to do this without having prior knowledge of the amount of stored data... something to discuss\n",
    "segment_indices = prng.sample(range(len(data_bytearray)), k = amount_recovery)\n",
    "segment_test = []\n",
    "for i in segment_indices:\n",
    "    segment_test.append(data_bytearray[i])\n",
    "assert segment_test == segments\n",
    "print(amount, segment_indices)"
   ]
  }
 ],
 "metadata": {
  "kernelspec": {
   "display_name": "Python 3",
   "language": "python",
   "name": "python3"
  },
  "language_info": {
   "codemirror_mode": {
    "name": "ipython",
    "version": 3
   },
   "file_extension": ".py",
   "mimetype": "text/x-python",
   "name": "python",
   "nbconvert_exporter": "python",
   "pygments_lexer": "ipython3",
   "version": "3.8.5"
  }
 },
 "nbformat": 4,
 "nbformat_minor": 4
}
