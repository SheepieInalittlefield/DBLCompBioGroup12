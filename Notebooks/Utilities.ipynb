{
 "cells": [
  {
   "cell_type": "code",
   "execution_count": null,
   "metadata": {},
   "outputs": [],
   "source": [
    "## installing packages\n",
    "import numpy as np"
   ]
  },
  {
   "cell_type": "markdown",
   "metadata": {},
   "source": [
    "# DNA2Binary\n",
    "Convert DNA string to binary number\n",
    "\n",
    "input: String of capitalized bases: A,C,G,T\n",
    "\n",
    "output: String of binary number"
   ]
  },
  {
   "cell_type": "code",
   "execution_count": null,
   "metadata": {},
   "outputs": [],
   "source": [
    "def DNA2Binary(s):\n",
    "    bs = \"\"\n",
    "    for x in s:\n",
    "        if x == \"A\":\n",
    "            bs = bs + \"00\"\n",
    "        if x == \"C\":\n",
    "            bs = bs + \"01\"\n",
    "        if x == \"G\":\n",
    "            bs = bs + \"10\"\n",
    "        if x == \"T\":\n",
    "            bs = bs + \"11\"\n",
    "    return bs"
   ]
  },
  {
   "cell_type": "markdown",
   "metadata": {},
   "source": [
    "# Binary2DNA\n",
    "Convert binary number to DNA sring\n",
    "\n",
    "input: String of binary number (length has to be a multiple of 2)\n",
    "\n",
    "output: String of capitalized bases: A,C,G,T"
   ]
  },
  {
   "cell_type": "code",
   "execution_count": 2,
   "metadata": {},
   "outputs": [],
   "source": [
    "def Binary2DNA(bs):\n",
    "    s = \"\"\n",
    "    for x in [bs[i:i+2] for i in range(0,len(bs),2)]:\n",
    "        if x == \"00\":\n",
    "            s = s + \"A\"\n",
    "        if x == \"01\":\n",
    "            s = s + \"C\"\n",
    "        if x == \"10\":\n",
    "            s = s + \"G\"\n",
    "        if x == \"11\":\n",
    "            s = s + \"T\"\n",
    "    return s"
   ]
  },
  {
   "cell_type": "markdown",
   "metadata": {},
   "source": [
    "# rrefXOR\n",
    "Solve matrix B using XOR-operations to get row reduced echelon form with pivots\n",
    "\n",
    "input: \n",
    "- matrix B containing recieved droplets(nr rows: doesn't matter and nr columns: nr segments+1)\n",
    "\n",
    "output: \n",
    "- matrix A: the row reduced echelon form of matrix B\n",
    "- pivots_pos: the positions of pivots"
   ]
  },
  {
   "cell_type": "code",
   "execution_count": null,
   "metadata": {},
   "outputs": [],
   "source": [
    "def rrefXOR(B, tol=1e-8):\n",
    "    A = B.copy()\n",
    "    rows, cols = A.shape\n",
    "    r = 0\n",
    "    pivots_pos = []\n",
    "    for c in range(cols-1): # *pivot should not be in the last column, this is the data column*\n",
    "        ## Find the pivot row:\n",
    "        pivot = np.argmax(A[r:rows,c]) + r\n",
    "        m = A[pivot, c]\n",
    "        if m <= tol:\n",
    "            ## Skip column c, making sure the approximately zero terms are\n",
    "            ## actually zero.\n",
    "            A[r:rows, c] = np.zeros(rows-r)\n",
    "        else:\n",
    "            ## keep track of bound variables\n",
    "            pivots_pos.append(r)\n",
    "\n",
    "        if pivot != r:\n",
    "            ## Swap current row and pivot row\n",
    "            A[[pivot, r], c:cols] = A[[r, pivot], c:cols]\n",
    "\n",
    "        ## Eliminate the current column\n",
    "        v = A[r, c:cols]\n",
    "        ## Above (before row r):\n",
    "        if r > 0:\n",
    "            ridx_above = np.arange(r)\n",
    "            for i in ridx_above:\n",
    "                if A[i, c]==1:\n",
    "                    A[i,c:cols] = A[i,c:cols] ^ v\n",
    "        ## Below (after row r):\n",
    "        if r < rows-1:\n",
    "            ridx_below = np.arange(r+1,rows)\n",
    "            for i in ridx_below:\n",
    "                if A[i, c]==1:\n",
    "                    A[i,c:cols] = A[i,c:cols] ^ v\n",
    "        r += 1\n",
    "        ## Check if done\n",
    "        if r == rows:\n",
    "            if len(pivots_pos)==r:\n",
    "                break;\n",
    "            else:\n",
    "                print(\"Not enough data available to solve all segments\")\n",
    "                break;\n",
    "    return(A, pivots_pos)"
   ]
  }
 ],
 "metadata": {
  "kernelspec": {
   "display_name": "Python 3",
   "language": "python",
   "name": "python3"
  },
  "language_info": {
   "codemirror_mode": {
    "name": "ipython",
    "version": 3
   },
   "file_extension": ".py",
   "mimetype": "text/x-python",
   "name": "python",
   "nbconvert_exporter": "python",
   "pygments_lexer": "ipython3",
   "version": "3.7.3"
  }
 },
 "nbformat": 4,
 "nbformat_minor": 2
}
