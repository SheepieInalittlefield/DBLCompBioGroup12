{
 "cells": [
  {
   "cell_type": "markdown",
   "metadata": {},
   "source": [
    "# Huffman encoding\n",
    "\n",
    "concert binary to a triplet base system which is then encoded into DNA\n"
   ]
  },
  {
   "cell_type": "code",
   "execution_count": 2,
   "metadata": {},
   "outputs": [],
   "source": [
    "import numpy as np\n",
    "\n",
    "def SegmentLength2DNA(number):\n",
    "    base_3 = np.base_repr(number,base=3)\n",
    "    s=''\n",
    "\n",
    "    A_dic = {'0':\"C\", '1': \"G\", '2':\"T\"}\n",
    "    C_dic = {'0':\"G\", '1': \"T\", '2':\"A\"}\n",
    "    G_dic = {'0':\"T\", '1': \"A\", '2':\"C\"}\n",
    "    T_dic = {'0':\"A\", '1': \"C\", '2':\"G\"}\n",
    "\n",
    "    for i in range(len(base_3)):\n",
    "        if i == 0:\n",
    "            nucleotide = A_dic[base_3[i]]\n",
    "        elif s[i-1] == 'A':\n",
    "            nucleotide = A_dic[base_3[i]]\n",
    "        elif s[i-1] == 'C':\n",
    "            nucleotide = C_dic[base_3[i]]\n",
    "        elif s[i-1] == 'G':\n",
    "            nucleotide = G_dic[base_3[i]]\n",
    "        elif s[i-1] == 'T':\n",
    "            nucleotide = T_dic[base_3[i]]\n",
    "        s = s + nucleotide\n",
    "    return s"
   ]
  },
  {
   "cell_type": "markdown",
   "metadata": {},
   "source": [
    "# Huffman decoding"
   ]
  },
  {
   "cell_type": "code",
   "execution_count": 3,
   "metadata": {},
   "outputs": [],
   "source": [
    "def DNA2SegmentLength(s):\n",
    "    base_3 = ''\n",
    "    A_dic = {'C':\"0\", 'G': \"1\", 'T':\"2\"}\n",
    "    C_dic = {'G':\"0\", 'T': \"1\", 'A':\"2\"}\n",
    "    G_dic = {'T':\"0\", 'A': \"1\", 'C':\"2\"}\n",
    "    T_dic = {'A':\"0\", 'C': \"1\", 'G':\"2\"}\n",
    "\n",
    "    for i in range(len(s)):\n",
    "        if i == 0:\n",
    "            digit = A_dic[s[i]]\n",
    "        elif s[i-1] == 'A':\n",
    "            digit = A_dic[s[i]]\n",
    "        elif s[i-1] == 'C':\n",
    "            digit = C_dic[s[i]]\n",
    "        elif s[i-1] == 'G':\n",
    "            digit = G_dic[s[i]]\n",
    "        elif s[i-1] == 'T':\n",
    "            digit = T_dic[s[i]]\n",
    "        base_3 = base_3 + digit\n",
    "    segment_length=0\n",
    "    for i in range(-1,-len(base_3)-1,-1):\n",
    "        segment_length = segment_length + int(base_3[i])*3**(-i-1)\n",
    "    \n",
    "    return segment_length"
   ]
  },
  {
   "cell_type": "code",
   "execution_count": 6,
   "metadata": {},
   "outputs": [
    {
     "name": "stdout",
     "output_type": "stream",
     "text": [
      "5656 8\n",
      "TCACAGAG\n"
     ]
    }
   ],
   "source": [
    "number = 5656\n",
    "s = SegmentLength2DNA(number)\n",
    "print(DNA2SegmentLength(s), len(s))\n",
    "print(s)"
   ]
  }
 ],
 "metadata": {
  "kernelspec": {
   "display_name": "Python 3",
   "language": "python",
   "name": "python3"
  },
  "language_info": {
   "codemirror_mode": {
    "name": "ipython",
    "version": 3
   },
   "file_extension": ".py",
   "mimetype": "text/x-python",
   "name": "python",
   "nbconvert_exporter": "python",
   "pygments_lexer": "ipython3",
   "version": "3.7.3"
  }
 },
 "nbformat": 4,
 "nbformat_minor": 2
}
