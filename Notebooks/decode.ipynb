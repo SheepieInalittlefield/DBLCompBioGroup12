{
 "cells": [
  {
   "cell_type": "markdown",
   "metadata": {},
   "source": [
    "# Decode DNA-segments back to the original file"
   ]
  },
  {
   "cell_type": "markdown",
   "metadata": {},
   "source": [
    "# Imports"
   ]
  },
  {
   "cell_type": "code",
   "execution_count": null,
   "metadata": {},
   "outputs": [],
   "source": [
    "import random\n",
    "import math\n",
    "import numpy as np\n",
    "import functools\n",
    "import reedsolo "
   ]
  },
  {
   "cell_type": "markdown",
   "metadata": {},
   "source": [
    "# DNA requirements"
   ]
  },
  {
   "cell_type": "code",
   "execution_count": null,
   "metadata": {},
   "outputs": [],
   "source": [
    "def CheckBiochemicalRequirements(s, max_length=3, check=False): \n",
    "    if s.find((max_length+1)*'C') ==-1 & s.find((max_length+1)*'G') ==-1 & s.find((max_length+1)*'T')==-1 & s.find((max_length+1)*'A')==-1:\n",
    "#         print('yes, no homopolymers')\n",
    "        nr_CG = s.count('C')+s.count('G')\n",
    "        per_CG=nr_CG/len(s)\n",
    "        if (per_CG < 0.55) & (per_CG > 0.45):\n",
    "#             print('Suitable CG content')\n",
    "            check = True\n",
    "#         else:\n",
    "#             print('CG content not in accepted ranges')\n",
    "#     else:\n",
    "#         print('not a valid sequence: it contains homopolymers longer than three bases')\n",
    "    return check"
   ]
  },
  {
   "cell_type": "code",
   "execution_count": null,
   "metadata": {},
   "outputs": [],
   "source": [
    "#check voor de lengte van de oligo toegevoegd, als dit niet klopt proberen te solven met reed-solomon\n",
    "def check_oligo_length(s,length=152,check_lenght=False):\n",
    "    if len(s) == length:\n",
    "        check_length = True\n",
    "    else:\n",
    "        if len(s) < length:\n",
    "        print('oligo length is too short')\n",
    "        else:\n",
    "            print('oligo length is too long')\n",
    "    return check_length"
   ]
  },
  {
   "cell_type": "markdown",
   "metadata": {},
   "source": [
    "# Convert DNA to binary"
   ]
  },
  {
   "cell_type": "code",
   "execution_count": null,
   "metadata": {},
   "outputs": [],
   "source": [
    "def DNA2Binary(s):\n",
    "    bs = \"\"\n",
    "    for x in s:\n",
    "        if x == \"A\":\n",
    "            bs = bs + \"00\"\n",
    "        if x == \"C\":\n",
    "            bs = bs + \"01\"\n",
    "        if x == \"G\":\n",
    "            bs = bs + \"10\"\n",
    "        if x == \"T\":\n",
    "            bs = bs + \"11\"\n",
    "    return bs"
   ]
  },
  {
   "cell_type": "code",
   "execution_count": null,
   "metadata": {},
   "outputs": [],
   "source": [
    "def string_to_bytearray(bs):\n",
    "    \"\"\"\n",
    "    INPUTS: \n",
    "    bs: string in utf-8 encoding)\n",
    "    OUTPUT:\n",
    "    ba: bytearray \n",
    "    Converts string to a bytearray\n",
    "    \"\"\"\n",
    "    ba = bytarray(bs,'utf-8')\n",
    "    return ba"
   ]
  },
  {
   "cell_type": "markdown",
   "metadata": {},
   "source": [
    "# Reed-Solomon"
   ]
  },
  {
   "cell_type": "code",
   "execution_count": null,
   "metadata": {},
   "outputs": [],
   "source": [
    "def Reed_solo(ba):\n",
    "    \"\"\"\"\n",
    "    INPUT:\n",
    "    ba: droplet bytearray with rs encoding.\n",
    "    OUTPUT:\n",
    "    decoded_rs: decoded (so errors corrected) droplet \n",
    "    Uses RS bits to solve errors in a droplet.\n",
    "    \"\"\"\n",
    "    decoded_rs = rsc.decode(ba)[0]\n",
    "    return decoded_rs"
   ]
  },
  {
   "cell_type": "markdown",
   "metadata": {},
   "source": [
    "# Recover seed"
   ]
  },
  {
   "cell_type": "code",
   "execution_count": 2,
   "metadata": {},
   "outputs": [],
   "source": [
    "def ideal_soliton(K) -> list: \n",
    "    \"\"\"\n",
    "    INPUT:\n",
    "    K: length of list\n",
    "    OUTPUT:\n",
    "    probabilities: list of probabilities following ideal soliton distribution\n",
    "    Generates a list of probalities of length K, following an ideal soliton distribution\n",
    "    \"\"\"\n",
    "    # initialize with the first two values, p(0) = 0 and p(1) = 1/K\n",
    "    probabilities = [0, 1/K]\n",
    "    # calculate the rest of the values using p(i) = 1/(i*(i-1))\n",
    "    probabilities += [1/(i*(i-1)) for i in range(2, K+1)]\n",
    "    return probabilities "
   ]
  },
  {
   "cell_type": "code",
   "execution_count": null,
   "metadata": {},
   "outputs": [],
   "source": [
    "def robust_soliton(K,c,delta) -> list:\n",
    "    \"\"\"\n",
    "    INPUT:\n",
    "    K: length of list\n",
    "    c: value of c variable in distribution\n",
    "    delta: value of delta variable in distribution\n",
    "    OUTPUT:\n",
    "    probabilities: list of probabilities following ideal soliton distribution\n",
    "    Generates a list of probalities of length K, following an robust soliton distribution with variables c and delta.\n",
    "    \"\"\"\n",
    "    #initialize with the ideal distribution\n",
    "    probabilities = ideal_soliton(K)\n",
    "    # Define R\n",
    "    R = c*(math.log(K/delta))*math.sqrt(K)\n",
    "    # calculate the additional probabilities\n",
    "    robust_probabilities = [0] + [R/(i*K) for i in range(1, int(K/R)-1)]\n",
    "    robust_probabilities += [(R*math.log(R/delta))/K]\n",
    "    robust_probabilities += [0 for i in range(int(K/R),K+1)]\n",
    "    # add together\n",
    "    probabilities = np.add(robust_probabilities, probabilities)\n",
    "    #normalize \n",
    "    probabilities /= sum(probabilities)\n",
    "    return probabilities"
   ]
  },
  {
   "cell_type": "code",
   "execution_count": 3,
   "metadata": {},
   "outputs": [],
   "source": [
    "def recover_seed(decoded_rs, total_segments):\n",
    "    \"\"\"\n",
    "    INPUT: \n",
    "    decoded_rs: decoded droplet, in bytearray format\n",
    "    total_segments: total number of segments in input file.\n",
    "    OUTPUT: \n",
    "    amount_recovery: amount of segments in the droplet\n",
    "    segment_indices: indices of the segments in the droplet\n",
    "    takes a droplet and uses it's seed to determine which segments were XORd into it.\n",
    "    \"\"\"\n",
    "    prng = random.Random()\n",
    "    droplet_seed = int(decoded_rs[0:32],2)\n",
    "    prng.seed(droplet_seed)\n",
    "    amount = prng.choices(range(0,101), robust_soliton(100,0.1,0.05), k = 1)[0]\n",
    "    segment_indices = prng.sample(range(total_segments),k = amount)\n",
    "    return (amount, segment_indices)"
   ]
  },
  {
   "cell_type": "markdown",
   "metadata": {},
   "source": [
    "# Solve Luby-transformations"
   ]
  },
  {
   "cell_type": "code",
   "execution_count": null,
   "metadata": {},
   "outputs": [],
   "source": [
    "input_data = [] # deze moet in de mainfile komen\n",
    "def input_data(segment_indices, decoded_rs):\n",
    "    segment = decoded_rs[32:len(decoded_rs)]\n",
    "    segmentlist += [segment_indices, segment]\n",
    "    return input_data"
   ]
  },
  {
   "cell_type": "code",
   "execution_count": null,
   "metadata": {},
   "outputs": [],
   "source": [
    "nr_segments = 5 #deze komt uit de extra oligo die we willen maken\n",
    "output_data = {} # moet in de mainfile\n",
    "\n",
    "def Decoding_step1and2(input_data, output_data):\n",
    "    for droplet in input_data:\n",
    "        segment_indices = droplet[0]\n",
    "        XOR = droplet[1]\n",
    "        remaining_segments = []\n",
    "        for i in range(len(segment_indices)):\n",
    "            if segment_indices[i] in output_data:\n",
    "                dif = int(XOR,2) ^ int(output_data[segment_indices[i]],2)\n",
    "                XOR = '{0:0{1}b}'.format(dif,len(droplet[1]))\n",
    "            else:\n",
    "                remaining_segments.append(segment_indices[i])    \n",
    "\n",
    "        if len(remaining_segments)==1:\n",
    "            output_data[remaining_segments[0]] = XOR\n",
    "            newsolves=1\n",
    "            while newsolves>0: \n",
    "                startsolves = len(output_data)\n",
    "                Decoding_step1and2(input_data, output_data)\n",
    "                endsolves = len(output_data)\n",
    "                newsolves = endsolves-startsolves\n",
    "    return output_data\n",
    "\n",
    "# Van dit stuk hieronder weet ik niet of het ook gewoon in de def zou kunnen?                \n",
    "output_data = Decoding_step1and2(input_data, output_data)\n",
    "\n",
    "##add in a check to see if all segments have been solved.\n",
    "#are all values from 0 to last segment keys in the dictionary\n",
    "if len(output_data)==nr_segments:\n",
    "    solution = ''.join([output_data[x] for x in range(nr_segments)])\n",
    "else:\n",
    "    solution = 'solution could not be reached, use another more robust method'\n",
    "solution\n"
   ]
  },
  {
   "cell_type": "markdown",
   "metadata": {},
   "source": [
    "# Unrandomize"
   ]
  },
  {
   "cell_type": "code",
   "execution_count": 4,
   "metadata": {},
   "outputs": [],
   "source": [
    "def unrandomize(solution, keygenseed = 7) -> bytearray:\n",
    "    \"\"\"\n",
    "    INPUT: \n",
    "    solution: randomized file, in bytearray format\n",
    "    keygenseed: integer value of the seed to be used, default 7 \n",
    "    OUTPUT:\n",
    "    Unrandomize the message one byte at a time, using a known keygenseed.\n",
    "    \"\"\"\n",
    "    unrandomized = bytearray(len(solution))\n",
    "    for i in range(len(solution)):\n",
    "        key = generate_key(keygenseed)\n",
    "        keygenseed += 1\n",
    "        unrandomized[i] = key ^ solution[i]\n",
    "    return unrandomized"
   ]
  },
  {
   "cell_type": "markdown",
   "metadata": {},
   "source": [
    "# Return original file"
   ]
  },
  {
   "cell_type": "code",
   "execution_count": null,
   "metadata": {},
   "outputs": [],
   "source": [
    "def original_data(unrandomized):\n",
    "    original_data = unrandomized.decode()\n",
    "    return original_data"
   ]
  },
  {
   "cell_type": "markdown",
   "metadata": {},
   "source": [
    "# Mainscript"
   ]
  },
  {
   "cell_type": "code",
   "execution_count": null,
   "metadata": {},
   "outputs": [],
   "source": [
    "def decode(dropletlist,K,c,delta,total_segments,):\n",
    "    data = dropletlist\n",
    "    #put the droplet list in variable data\n",
    "    OKdroplets = []\n",
    "    newlistcounter = 0\n",
    "    for i in length(data):\n",
    "        s = data[i]\n",
    "        if CheckBiochemicalRequirements(s):\n",
    "            newlistcounter += 1\n",
    "            OKdroplets[newlistcounter]=s\n",
    "    #put all droplets that have the correct biomedical requirements in variable OKdroplets\n",
    "    checked_droplets = []\n",
    "    newlistcounter = 0\n",
    "    for j in length(OKdroplets):\n",
    "        if check_oglio_length(OKdroplets):\n",
    "            newlistcounter += 1\n",
    "            checked_droplets[newlistcounter] = OKdroplets[j]\n",
    "    #put all the OKdroplets that have the correct lenght in variable checked_droplets\n",
    "    for k in length(checked_droplets):\n",
    "        checked_droplets[k] = DNA2Binary(checked_droplets[k])\n",
    "    #convert DNA to binary\n",
    "    for l in length(checked_droplets):\n",
    "        checked_droplets[k] = string_to_bytearray(checked_droplets[k])\n",
    "    #get a list of byte arrays\n",
    "    for l in lenght(checked_droplets):\n",
    "        checked_droplets[k] = Reed_solo(checked_droplets[k])\n",
    "    #Decode using reed-solomon\n",
    "    \"\"\"\n",
    "    Ik weet even niet wat de bedoeling is met de recover seed. \n",
    "    Kunnen we het hier tijdens de vergadering over hebben?\n",
    "    \"\"\"\n",
    "    probabilities = robust_solution(K,c,delta)\n",
    "    #recover seed\n",
    "    input_data = []\n",
    "    for m in length(checked_droplets):\n",
    "        \n",
    "        \n",
    "    "
   ]
  }
 ],
 "metadata": {
  "kernelspec": {
   "display_name": "Python 3",
   "language": "python",
   "name": "python3"
  },
  "language_info": {
   "codemirror_mode": {
    "name": "ipython",
    "version": 3
   },
   "file_extension": ".py",
   "mimetype": "text/x-python",
   "name": "python",
   "nbconvert_exporter": "python",
   "pygments_lexer": "ipython3",
   "version": "3.8.5"
  }
 },
 "nbformat": 4,
 "nbformat_minor": 5
}
