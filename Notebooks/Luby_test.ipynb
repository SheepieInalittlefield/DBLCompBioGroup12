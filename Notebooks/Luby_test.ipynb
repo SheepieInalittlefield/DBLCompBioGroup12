{
 "cells": [
  {
   "cell_type": "code",
   "execution_count": 1,
   "metadata": {},
   "outputs": [],
   "source": [
    "import numpy as np"
   ]
  },
  {
   "cell_type": "markdown",
   "metadata": {},
   "source": [
    "# Example of segmenting before applying the Luby transform\n",
    "\n",
    "Correct input data is assumed"
   ]
  },
  {
   "cell_type": "code",
   "execution_count": 2,
   "metadata": {},
   "outputs": [
    {
     "name": "stdout",
     "output_type": "stream",
     "text": [
      "0000\n",
      "0001\n",
      "0011\n",
      "0111\n",
      "1111\n"
     ]
    }
   ],
   "source": [
    "import numpy as np\n",
    "\n",
    "og_data = '00000001001101111111'\n",
    "segment_length = 4\n",
    "nr_segments = len(og_data)//segment_length\n",
    "segments= np.empty((nr_segments,1))\n",
    "segments[:]=np.nan\n",
    "\n",
    "for x in range(len(og_data)//4):\n",
    "    segment = int(og_data[4*x:4*x+4],2)\n",
    "    print('{0:0{1}b}'.format(segment,segment_length))"
   ]
  },
  {
   "cell_type": "markdown",
   "metadata": {},
   "source": [
    "# Decoding based on the Erlich paper\n",
    "\n",
    "**This structure is suboptimal. It can only start solving when a seed with one segment is introduced. Additionally, droplets with only one nonsolved segment lead to furter solves**\n",
    "- 1. Check if incoming data contains a segment which is already solved and XOR that one away\n",
    "- 2. Check if the incoming data decodes for only one segment, add data and solved segment to the solved segments\n",
    "- 3. repeat step 1 and 2 until the solved segments do not stop increasing\n",
    "- 4. move on to new incoming data if not all segments are stored\n",
    "\n",
    "Input data: list of tuples ( [indices of the contained segments] , \"XOR of segments\" )\n",
    "\n",
    "Output data: dictionary of solved segments, index segment as key and binary segment as value"
   ]
  },
  {
   "cell_type": "code",
   "execution_count": 3,
   "metadata": {},
   "outputs": [
    {
     "data": {
      "text/plain": [
       "'00000001001101111111'"
      ]
     },
     "execution_count": 3,
     "metadata": {},
     "output_type": "execute_result"
    }
   ],
   "source": [
    "input_data = [([0],\"0000\"),\n",
    "              ([1,2],\"0010\"),\n",
    "              ([0,1],\"0001\"),\n",
    "              ([0,2,4],\"1100\"),\n",
    "              ([1,3,4],\"1001\"),\n",
    "              ([0,1,2,3,4],\"1010\")]\n",
    "\n",
    "nr_segments = 5\n",
    "output_data = {}\n",
    "\n",
    "def Decoding_step1and2(input_data, output_data):\n",
    "    for droplet in input_data:\n",
    "        segment_indices = droplet[0]\n",
    "        XOR = droplet[1]\n",
    "        remaining_segments = []\n",
    "        for i in range(len(segment_indices)):\n",
    "            if segment_indices[i] in output_data:\n",
    "                dif = int(XOR,2) ^ int(output_data[segment_indices[i]],2)\n",
    "                XOR = '{0:0{1}b}'.format(dif,len(droplet[1]))\n",
    "            else:\n",
    "                remaining_segments.append(segment_indices[i])    \n",
    "\n",
    "        if len(remaining_segments)==1:\n",
    "            output_data[remaining_segments[0]] = XOR\n",
    "            newsolves=1\n",
    "            while newsolves>0: \n",
    "                startsolves = len(output_data)\n",
    "                Decoding_step1and2(input_data, output_data)\n",
    "                endsolves = len(output_data)\n",
    "                newsolves = endsolves-startsolves\n",
    "    return output_data\n",
    "\n",
    "                \n",
    "output_data = Decoding_step1and2(input_data, output_data)\n",
    "\n",
    "##add in a check to see if all segments have been solved.\n",
    "#are all values from 0 to last segment keys in the dictionary\n",
    "if len(output_data)==nr_segments:\n",
    "    solution = ''.join([output_data[x] for x in range(nr_segments)])\n",
    "else:\n",
    "    solution = 'solution could not be reached, use another more robust method'\n",
    "solution"
   ]
  },
  {
   "cell_type": "markdown",
   "metadata": {},
   "source": [
    "# Decoding based on row-reduced-echelon-form using XOR\n",
    "\n",
    "source: https://gist.github.com/sgsfak/77a1c08ac8a9b0af77393b24e44c9547\n",
    "original code has been augmented to scecificaly fit the decoding of Luby transformations\n",
    "\n",
    "each row is a droplet, the first K columns correspond to the K segments and the K+1 column is the data payload/the XOR of sequences in this droplet. For K rows(droplets) the system could possibly be solved as long as there is a one in every column (every segment is part of a droplet which has been recieved) and no duplicate rows are present."
   ]
  },
  {
   "cell_type": "code",
   "execution_count": 7,
   "metadata": {},
   "outputs": [
    {
     "data": {
      "text/plain": [
       "((array([[ 1,  0,  0,  0,  0,  0],\n",
       "         [ 0,  1,  0,  0,  0,  1],\n",
       "         [ 0,  0,  1,  0,  0,  3],\n",
       "         [ 0,  0,  0,  1,  0,  7],\n",
       "         [ 0,  0,  0,  0,  1, 15]]), [0, 1, 2, 3, 4]), '00000001001101111111')"
      ]
     },
     "execution_count": 7,
     "metadata": {},
     "output_type": "execute_result"
    }
   ],
   "source": [
    "import numpy as np\n",
    "\n",
    "def rref(B, tol=1e-8):\n",
    "    A = B.copy()\n",
    "    rows, cols = A.shape\n",
    "    r = 0\n",
    "    pivots_pos = []\n",
    "    for c in range(cols-1): # *pivot should not be in the last column, this is the data column*\n",
    "        ## Find the pivot row:\n",
    "        pivot = np.argmax(A[r:rows,c]) + r\n",
    "        m = A[pivot, c]\n",
    "        if m <= tol:\n",
    "            ## Skip column c, making sure the approximately zero terms are\n",
    "            ## actually zero.\n",
    "            A[r:rows, c] = np.zeros(rows-r)\n",
    "        else:\n",
    "            ## keep track of bound variables\n",
    "            pivots_pos.append(r)\n",
    "\n",
    "        if pivot != r:\n",
    "            ## Swap current row and pivot row\n",
    "            A[[pivot, r], c:cols] = A[[r, pivot], c:cols]\n",
    "\n",
    "        ## Eliminate the current column\n",
    "        v = A[r, c:cols]\n",
    "        ## Above (before row r):\n",
    "        if r > 0:\n",
    "            ridx_above = np.arange(r)\n",
    "            for i in ridx_above:\n",
    "                if A[i, c]==1:\n",
    "                    A[i,c:cols] = A[i,c:cols] ^ v\n",
    "        ## Below (after row r):\n",
    "        if r < rows-1:\n",
    "            ridx_below = np.arange(r+1,rows)\n",
    "            for i in ridx_below:\n",
    "                if A[i, c]==1:\n",
    "                    A[i,c:cols] = A[i,c:cols] ^ v\n",
    "        r += 1\n",
    "        ## Check if done\n",
    "        if r == rows:\n",
    "            if len(pivots_pos)==r:\n",
    "                break;\n",
    "            else:\n",
    "                print(\"Not enough data available to solve all segments\")\n",
    "                break;\n",
    "    return(A, pivots_pos)\n",
    "\n",
    "\n",
    "matrix = np.array([[1,0,0,0,0,0],\n",
    "                   [1,0,1,0,1,12],\n",
    "                   [0,1,0,1,1,9],\n",
    "                   [1,1,1,1,1,10],\n",
    "                   [1,1,0,0,0,1]])\n",
    "result = rref(matrix)\n",
    "\n",
    "if len(result[1])==nr_segments:\n",
    "    solution = ''.join(['{0:0{1}b}'.format(x,4) for x in result[0][result[1],-1]])\n",
    "else:\n",
    "    solution = 'solution could not be reached, more droplets are needed'\n",
    "result,solution"
   ]
  },
  {
   "cell_type": "markdown",
   "metadata": {},
   "source": [
    "# Initializing all possible seeds\n",
    "This is not what we need to do exactly but it is just an exercise to get input for the decoding\n",
    "- n: number of segments\n",
    "\n",
    "All possible segment combinations $={2}^{n}-1$\n",
    "\n",
    "Possible seeds for a specific index length $={2}^{indexlength}$ "
   ]
  },
  {
   "cell_type": "code",
   "execution_count": 5,
   "metadata": {},
   "outputs": [],
   "source": [
    "## set parameters and segment\n",
    "og_data = '00000001001101111111'\n",
    "segment_length = 4\n",
    "nr_segments = len(og_data)//segment_length\n",
    "segments= np.empty([nr_segments],dtype=int)\n",
    "\n",
    "for x in range(nr_segments):\n",
    "    segments[x]=(int(og_data[segment_length*x:segment_length*x+segment_length],2))\n",
    "\n",
    "# all possible segment combinations\n",
    "nr_combinations = 2**nr_segments-1\n",
    "index_length = 0\n",
    "while 2**index_length < nr_combinations:\n",
    "    index_length = index_length+1\n",
    "\n",
    "## Create droplets    \n",
    "droplets = []\n",
    "for x in range(1,nr_combinations+1):\n",
    "    seed='{0:0{1}b}'.format(x,index_length)\n",
    "    segment_indices = [i == '1' for i in seed]\n",
    "    a = segments[segment_indices]\n",
    "    payload = a[0]\n",
    "    for i in range(len(a)-1):\n",
    "        payload = payload ^ a[i+1]\n",
    "    droplets.append(''.join([seed,'{0:0{1}b}'.format(payload,segment_length)]))"
   ]
  },
  {
   "cell_type": "code",
   "execution_count": 8,
   "metadata": {},
   "outputs": [
    {
     "name": "stdout",
     "output_type": "stream",
     "text": [
      "succesfull recovery of sequence: 00000001001101111111\n"
     ]
    }
   ],
   "source": [
    "## Reading droplets into matrix\n",
    "matrix = np.zeros([len(droplets),nr_segments+1], dtype=int)\n",
    "for i in range(len(droplets)):\n",
    "    seed = droplets[i][0:nr_segments]\n",
    "    payload = droplets[i][nr_segments:]\n",
    "    segment_indices= [x == '1' for x in seed]\n",
    "#     print(segment_indices)\n",
    "    matrix[i,:nr_segments] = 1*segment_indices\n",
    "    matrix[i,nr_segments] = int(payload,2)\n",
    "\n",
    "## Solve matrix to RREF\n",
    "result = rref(matrix[[1,5,6,9,30],:]) #Only taking a few droplets to solve\n",
    "\n",
    "## Check solution\n",
    "if len(result[1])==nr_segments:\n",
    "    solution = ''.join(['{0:0{1}b}'.format(x,4) for x in result[0][result[1],-1]])\n",
    "    if solution == og_data:\n",
    "        print(\"succesfull recovery of sequence:\",solution)\n",
    "    else:\n",
    "        print(\"enough droplets collected but solution is incorrect\")\n",
    "else:\n",
    "    solution = 'solution could not be reached, more droplets are needed'\n",
    "    print(solution)\n"
   ]
  }
 ],
 "metadata": {
  "kernelspec": {
   "display_name": "Python 3",
   "language": "python",
   "name": "python3"
  },
  "language_info": {
   "codemirror_mode": {
    "name": "ipython",
    "version": 3
   },
   "file_extension": ".py",
   "mimetype": "text/x-python",
   "name": "python",
   "nbconvert_exporter": "python",
   "pygments_lexer": "ipython3",
   "version": "3.7.3"
  }
 },
 "nbformat": 4,
 "nbformat_minor": 2
}
