{
 "cells": [
  {
   "cell_type": "markdown",
   "metadata": {},
   "source": [
    "Very simple showcase using a single, random, droplet of length 30 bytes (120 nt), data is in the form of a bytearray for this. My randomization function also outputs this and in general it's very easy to work with."
   ]
  },
  {
   "cell_type": "code",
   "execution_count": 8,
   "metadata": {},
   "outputs": [
    {
     "name": "stdout",
     "output_type": "stream",
     "text": [
      "bytearray(b'\\xd4\\xee\\xe0^\\xfc:\\xbd3\\xc7L\\x9a3\\xe9!\\xec\\xe3\\x18q\\xb5\\x08\\t\\x91\\xe2\\xe8\\xb9A\\x96\\x06<U') \n",
      " bytearray(b'\\xd4\\xee\\xe0^\\x00:\\xbd3\\xc7L\\x9a3\\xe9!\\xec\\xe3\\x18q\\xb5\\x08\\t\\x91\\xe2\\xe8\\xb9A\\x96\\x06<U\\xb5\\xdb') \n",
      " bytearray(b'\\xd4\\xee\\xe0^\\xfc:\\xbd3\\xc7L\\x9a3\\xe9!\\xec\\xe3\\x18q\\xb5\\x08\\t\\x91\\xe2\\xe8\\xb9A\\x96\\x06<U') \n",
      " True\n"
     ]
    }
   ],
   "source": [
    "import reedsolo\n",
    "import os \n",
    "# initialize reed solomon code\n",
    "rsc = reedsolo.RSCodec(2)\n",
    "# create random droplet\n",
    "droplet = os.urandom(30)\n",
    "# convert to bytearray\n",
    "message = bytearray(droplet)\n",
    "# encode message with RS\n",
    "encoded = rsc.encode(message)\n",
    "# introduce error\n",
    "encoded[4] = 0\n",
    "# decode\n",
    "decoded = rsc.decode(encoded)[0]\n",
    "print(message,\"\\n\", encoded, \"\\n\", decoded, \"\\n\", decoded==message)"
   ]
  },
  {
   "cell_type": "markdown",
   "metadata": {},
   "source": [
    "If we introduce an additional error, we can no longer correct it."
   ]
  },
  {
   "cell_type": "code",
   "execution_count": 11,
   "metadata": {},
   "outputs": [
    {
     "ename": "ReedSolomonError",
     "evalue": "Too many (or few) errors found by Chien Search for the errata locator polynomial!",
     "output_type": "error",
     "traceback": [
      "\u001b[1;31m---------------------------------------------------------------------------\u001b[0m",
      "\u001b[1;31mReedSolomonError\u001b[0m                          Traceback (most recent call last)",
      "\u001b[1;32m<ipython-input-11-c1d39e9dca0c>\u001b[0m in \u001b[0;36m<module>\u001b[1;34m\u001b[0m\n\u001b[0;32m      1\u001b[0m \u001b[0mencoded\u001b[0m\u001b[1;33m[\u001b[0m\u001b[1;36m6\u001b[0m\u001b[1;33m]\u001b[0m \u001b[1;33m=\u001b[0m \u001b[1;36m0\u001b[0m\u001b[1;33m\u001b[0m\u001b[1;33m\u001b[0m\u001b[0m\n\u001b[1;32m----> 2\u001b[1;33m \u001b[0mdecoded\u001b[0m \u001b[1;33m=\u001b[0m \u001b[0mrsc\u001b[0m\u001b[1;33m.\u001b[0m\u001b[0mdecode\u001b[0m\u001b[1;33m(\u001b[0m\u001b[0mencoded\u001b[0m\u001b[1;33m)\u001b[0m\u001b[1;33m[\u001b[0m\u001b[1;36m0\u001b[0m\u001b[1;33m]\u001b[0m\u001b[1;33m\u001b[0m\u001b[1;33m\u001b[0m\u001b[0m\n\u001b[0m",
      "\u001b[1;32mc:\\users\\justi\\appdata\\local\\programs\\python\\python38\\lib\\site-packages\\reedsolo.py\u001b[0m in \u001b[0;36mdecode\u001b[1;34m(self, data, nsym, erase_pos, only_erasures)\u001b[0m\n\u001b[0;32m    922\u001b[0m                 \u001b[0merase_pos\u001b[0m \u001b[1;33m=\u001b[0m \u001b[1;33m[\u001b[0m\u001b[0mx\u001b[0m \u001b[1;33m-\u001b[0m \u001b[1;33m(\u001b[0m\u001b[0mself\u001b[0m\u001b[1;33m.\u001b[0m\u001b[0mnsize\u001b[0m\u001b[1;33m+\u001b[0m\u001b[1;36m1\u001b[0m\u001b[1;33m)\u001b[0m \u001b[1;32mfor\u001b[0m \u001b[0mx\u001b[0m \u001b[1;32min\u001b[0m \u001b[0merase_pos\u001b[0m \u001b[1;32mif\u001b[0m \u001b[0mx\u001b[0m \u001b[1;33m>\u001b[0m \u001b[0mself\u001b[0m\u001b[1;33m.\u001b[0m\u001b[0mnsize\u001b[0m\u001b[1;33m]\u001b[0m\u001b[1;33m\u001b[0m\u001b[1;33m\u001b[0m\u001b[0m\n\u001b[0;32m    923\u001b[0m             \u001b[1;31m# Decode/repair this chunk!\u001b[0m\u001b[1;33m\u001b[0m\u001b[1;33m\u001b[0m\u001b[1;33m\u001b[0m\u001b[0m\n\u001b[1;32m--> 924\u001b[1;33m             \u001b[0mrmes\u001b[0m\u001b[1;33m,\u001b[0m \u001b[0mrecc\u001b[0m\u001b[1;33m,\u001b[0m \u001b[0merrata_pos\u001b[0m \u001b[1;33m=\u001b[0m \u001b[0mrs_correct_msg\u001b[0m\u001b[1;33m(\u001b[0m\u001b[0mchunk\u001b[0m\u001b[1;33m,\u001b[0m \u001b[0mnsym\u001b[0m\u001b[1;33m,\u001b[0m \u001b[0mfcr\u001b[0m\u001b[1;33m=\u001b[0m\u001b[0mself\u001b[0m\u001b[1;33m.\u001b[0m\u001b[0mfcr\u001b[0m\u001b[1;33m,\u001b[0m \u001b[0mgenerator\u001b[0m\u001b[1;33m=\u001b[0m\u001b[0mself\u001b[0m\u001b[1;33m.\u001b[0m\u001b[0mgenerator\u001b[0m\u001b[1;33m,\u001b[0m \u001b[0merase_pos\u001b[0m\u001b[1;33m=\u001b[0m\u001b[0me_pos\u001b[0m\u001b[1;33m,\u001b[0m \u001b[0monly_erasures\u001b[0m\u001b[1;33m=\u001b[0m\u001b[0monly_erasures\u001b[0m\u001b[1;33m)\u001b[0m\u001b[1;33m\u001b[0m\u001b[1;33m\u001b[0m\u001b[0m\n\u001b[0m\u001b[0;32m    925\u001b[0m             \u001b[0mdec\u001b[0m\u001b[1;33m.\u001b[0m\u001b[0mextend\u001b[0m\u001b[1;33m(\u001b[0m\u001b[0mrmes\u001b[0m\u001b[1;33m)\u001b[0m\u001b[1;33m\u001b[0m\u001b[1;33m\u001b[0m\u001b[0m\n\u001b[0;32m    926\u001b[0m             \u001b[0mdec_full\u001b[0m\u001b[1;33m.\u001b[0m\u001b[0mextend\u001b[0m\u001b[1;33m(\u001b[0m\u001b[0mrmes\u001b[0m\u001b[1;33m+\u001b[0m\u001b[0mrecc\u001b[0m\u001b[1;33m)\u001b[0m\u001b[1;33m\u001b[0m\u001b[1;33m\u001b[0m\u001b[0m\n",
      "\u001b[1;32mc:\\users\\justi\\appdata\\local\\programs\\python\\python38\\lib\\site-packages\\reedsolo.py\u001b[0m in \u001b[0;36mrs_correct_msg\u001b[1;34m(msg_in, nsym, fcr, generator, erase_pos, only_erasures)\u001b[0m\n\u001b[0;32m    745\u001b[0m         \u001b[0merr_loc\u001b[0m \u001b[1;33m=\u001b[0m \u001b[0mrs_find_error_locator\u001b[0m\u001b[1;33m(\u001b[0m\u001b[0mfsynd\u001b[0m\u001b[1;33m,\u001b[0m \u001b[0mnsym\u001b[0m\u001b[1;33m,\u001b[0m \u001b[0merase_count\u001b[0m\u001b[1;33m=\u001b[0m\u001b[0mlen\u001b[0m\u001b[1;33m(\u001b[0m\u001b[0merase_pos\u001b[0m\u001b[1;33m)\u001b[0m\u001b[1;33m)\u001b[0m\u001b[1;33m\u001b[0m\u001b[1;33m\u001b[0m\u001b[0m\n\u001b[0;32m    746\u001b[0m         \u001b[1;31m# locate the message errors using Chien search (or bruteforce search)\u001b[0m\u001b[1;33m\u001b[0m\u001b[1;33m\u001b[0m\u001b[1;33m\u001b[0m\u001b[0m\n\u001b[1;32m--> 747\u001b[1;33m         \u001b[0merr_pos\u001b[0m \u001b[1;33m=\u001b[0m \u001b[0mrs_find_errors\u001b[0m\u001b[1;33m(\u001b[0m\u001b[0merr_loc\u001b[0m\u001b[1;33m[\u001b[0m\u001b[1;33m:\u001b[0m\u001b[1;33m:\u001b[0m\u001b[1;33m-\u001b[0m\u001b[1;36m1\u001b[0m\u001b[1;33m]\u001b[0m\u001b[1;33m,\u001b[0m \u001b[0mlen\u001b[0m\u001b[1;33m(\u001b[0m\u001b[0mmsg_out\u001b[0m\u001b[1;33m)\u001b[0m\u001b[1;33m,\u001b[0m \u001b[0mgenerator\u001b[0m\u001b[1;33m)\u001b[0m\u001b[1;33m\u001b[0m\u001b[1;33m\u001b[0m\u001b[0m\n\u001b[0m\u001b[0;32m    748\u001b[0m         \u001b[1;32mif\u001b[0m \u001b[0merr_pos\u001b[0m \u001b[1;32mis\u001b[0m \u001b[1;32mNone\u001b[0m\u001b[1;33m:\u001b[0m\u001b[1;33m\u001b[0m\u001b[1;33m\u001b[0m\u001b[0m\n\u001b[0;32m    749\u001b[0m             \u001b[1;32mraise\u001b[0m \u001b[0mReedSolomonError\u001b[0m\u001b[1;33m(\u001b[0m\u001b[1;34m\"Could not locate error\"\u001b[0m\u001b[1;33m)\u001b[0m\u001b[1;33m\u001b[0m\u001b[1;33m\u001b[0m\u001b[0m\n",
      "\u001b[1;32mc:\\users\\justi\\appdata\\local\\programs\\python\\python38\\lib\\site-packages\\reedsolo.py\u001b[0m in \u001b[0;36mrs_find_errors\u001b[1;34m(err_loc, nmess, generator)\u001b[0m\n\u001b[0;32m    691\u001b[0m     \u001b[1;32mif\u001b[0m \u001b[0mlen\u001b[0m\u001b[1;33m(\u001b[0m\u001b[0merr_pos\u001b[0m\u001b[1;33m)\u001b[0m \u001b[1;33m!=\u001b[0m \u001b[0merrs\u001b[0m\u001b[1;33m:\u001b[0m\u001b[1;33m\u001b[0m\u001b[1;33m\u001b[0m\u001b[0m\n\u001b[0;32m    692\u001b[0m         \u001b[1;31m# TODO: to decode messages+ecc with length n > 255, we may try to use a bruteforce approach: the correct positions ARE in the final array j, but the problem is because we are above the Galois Field's range, there is a wraparound so that for example if j should be [0, 1, 2, 3], we will also get [255, 256, 257, 258] (because 258 % 255 == 3, same for the other values), so we can't discriminate. The issue is that fixing any errs_nb errors among those will always give a correct output message (in the sense that the syndrome will be all 0), so we may not even be able to check if that's correct or not, so I'm not sure the bruteforce approach may even be possible.\u001b[0m\u001b[1;33m\u001b[0m\u001b[1;33m\u001b[0m\u001b[1;33m\u001b[0m\u001b[0m\n\u001b[1;32m--> 693\u001b[1;33m         \u001b[1;32mraise\u001b[0m \u001b[0mReedSolomonError\u001b[0m\u001b[1;33m(\u001b[0m\u001b[1;34m\"Too many (or few) errors found by Chien Search for the errata locator polynomial!\"\u001b[0m\u001b[1;33m)\u001b[0m\u001b[1;33m\u001b[0m\u001b[1;33m\u001b[0m\u001b[0m\n\u001b[0m\u001b[0;32m    694\u001b[0m     \u001b[1;32mreturn\u001b[0m \u001b[0merr_pos\u001b[0m\u001b[1;33m\u001b[0m\u001b[1;33m\u001b[0m\u001b[0m\n\u001b[0;32m    695\u001b[0m \u001b[1;33m\u001b[0m\u001b[0m\n",
      "\u001b[1;31mReedSolomonError\u001b[0m: Too many (or few) errors found by Chien Search for the errata locator polynomial!"
     ]
    }
   ],
   "source": [
    "encoded[6] = 0\n",
    "decoded = rsc.decode(encoded)[0]"
   ]
  },
  {
   "cell_type": "markdown",
   "metadata": {},
   "source": [
    "We can however, still detect it."
   ]
  },
  {
   "cell_type": "code",
   "execution_count": 12,
   "metadata": {},
   "outputs": [
    {
     "data": {
      "text/plain": [
       "[False]"
      ]
     },
     "execution_count": 12,
     "metadata": {},
     "output_type": "execute_result"
    }
   ],
   "source": [
    "#check for errors using RS, returns false if errors are detected\n",
    "rsc.check(encoded)"
   ]
  },
  {
   "cell_type": "markdown",
   "metadata": {},
   "source": [
    "This command tells us the maximum amount of errors that can be corrected. "
   ]
  },
  {
   "cell_type": "code",
   "execution_count": 15,
   "metadata": {},
   "outputs": [
    {
     "name": "stdout",
     "output_type": "stream",
     "text": [
      "This codec can correct up to 1 errors and 2 erasures independently\n"
     ]
    },
    {
     "data": {
      "text/plain": [
       "(1, 2)"
      ]
     },
     "execution_count": 15,
     "metadata": {},
     "output_type": "execute_result"
    }
   ],
   "source": [
    "rsc.maxerrata(verbose=True)"
   ]
  }
 ],
 "metadata": {
  "kernelspec": {
   "display_name": "Python 3",
   "language": "python",
   "name": "python3"
  },
  "language_info": {
   "codemirror_mode": {
    "name": "ipython",
    "version": 3
   },
   "file_extension": ".py",
   "mimetype": "text/x-python",
   "name": "python",
   "nbconvert_exporter": "python",
   "pygments_lexer": "ipython3",
   "version": "3.8.5"
  }
 },
 "nbformat": 4,
 "nbformat_minor": 4
}
