{
 "cells": [
  {
   "cell_type": "markdown",
   "metadata": {},
   "source": [
    "# Example for the segmentation of binary data\n",
    "This code segments the data from a binary file into segments of equal length, while padding the final segment with 0's.\n",
    "For test purposes a binary data string of 20 times 'Hello world, ' was used retrieved from https://cryptii.com/pipes/text-to-binary."
   ]
  },
  {
   "cell_type": "markdown",
   "metadata": {},
   "source": [
    "# Pre-process\n",
    "The first step is to remove all spaces between the bytes of the data"
   ]
  },
  {
   "cell_type": "code",
   "execution_count": 59,
   "metadata": {},
   "outputs": [
    {
     "data": {
      "text/plain": [
       "258"
      ]
     },
     "execution_count": 59,
     "metadata": {},
     "output_type": "execute_result"
    }
   ],
   "source": [
    "#binary data for 20 times 'Hello world, '\n",
    "message = 'Hello World, Hello World, Hello World, Hello World, Hello World, Hello World, Hello World, Hello World, Hello World, Hello World, Hello World, Hello World, Hello World, Hello World, Hello World, Hello World, Hello World, Hello World, Hello World, Hello World'\n",
    "len(message)\n",
    "#remove al spaces\n",
    "\n",
    "\n"
   ]
  },
  {
   "cell_type": "markdown",
   "metadata": {},
   "source": [
    "# Padding\n",
    "The next step is to padd the data with 0's to get a length that is a multiplication of 256.\n",
    "In order to know how much padding is added and prevent accidental removal of bytes at the end of the original data consisting of only 0's, the first byte (8 bits) of the padding consists of  the binary number for the total number of bits that wil be added for padding."
   ]
  },
  {
   "cell_type": "code",
   "execution_count": 60,
   "metadata": {},
   "outputs": [
    {
     "name": "stdout",
     "output_type": "stream",
     "text": [
      "2064\n",
      "30\n",
      "00011110\n",
      "22\n",
      "Hello World, Hello World, Hello World, Hello World, Hello World, Hello World, Hello World, Hello World, Hello World, Hello World, Hello World, Hello World, Hello World, Hello World, Hello World, Hello World, Hello World, Hello World, Hello World, Hello World000111100\n",
      "Hello World, Hello World, Hello World, Hello World, Hello World, Hello World, Hello World, Hello World, Hello World, Hello World, Hello World, Hello World, Hello World, Hello World, Hello World, Hello World, Hello World, Hello World, Hello World, Hello World0001111000\n",
      "Hello World, Hello World, Hello World, Hello World, Hello World, Hello World, Hello World, Hello World, Hello World, Hello World, Hello World, Hello World, Hello World, Hello World, Hello World, Hello World, Hello World, Hello World, Hello World, Hello World00011110000\n",
      "Hello World, Hello World, Hello World, Hello World, Hello World, Hello World, Hello World, Hello World, Hello World, Hello World, Hello World, Hello World, Hello World, Hello World, Hello World, Hello World, Hello World, Hello World, Hello World, Hello World000111100000\n",
      "Hello World, Hello World, Hello World, Hello World, Hello World, Hello World, Hello World, Hello World, Hello World, Hello World, Hello World, Hello World, Hello World, Hello World, Hello World, Hello World, Hello World, Hello World, Hello World, Hello World0001111000000\n",
      "Hello World, Hello World, Hello World, Hello World, Hello World, Hello World, Hello World, Hello World, Hello World, Hello World, Hello World, Hello World, Hello World, Hello World, Hello World, Hello World, Hello World, Hello World, Hello World, Hello World00011110000000\n",
      "Hello World, Hello World, Hello World, Hello World, Hello World, Hello World, Hello World, Hello World, Hello World, Hello World, Hello World, Hello World, Hello World, Hello World, Hello World, Hello World, Hello World, Hello World, Hello World, Hello World000111100000000\n",
      "Hello World, Hello World, Hello World, Hello World, Hello World, Hello World, Hello World, Hello World, Hello World, Hello World, Hello World, Hello World, Hello World, Hello World, Hello World, Hello World, Hello World, Hello World, Hello World, Hello World0001111000000000\n",
      "Hello World, Hello World, Hello World, Hello World, Hello World, Hello World, Hello World, Hello World, Hello World, Hello World, Hello World, Hello World, Hello World, Hello World, Hello World, Hello World, Hello World, Hello World, Hello World, Hello World00011110000000000\n",
      "Hello World, Hello World, Hello World, Hello World, Hello World, Hello World, Hello World, Hello World, Hello World, Hello World, Hello World, Hello World, Hello World, Hello World, Hello World, Hello World, Hello World, Hello World, Hello World, Hello World000111100000000000\n",
      "Hello World, Hello World, Hello World, Hello World, Hello World, Hello World, Hello World, Hello World, Hello World, Hello World, Hello World, Hello World, Hello World, Hello World, Hello World, Hello World, Hello World, Hello World, Hello World, Hello World0001111000000000000\n",
      "Hello World, Hello World, Hello World, Hello World, Hello World, Hello World, Hello World, Hello World, Hello World, Hello World, Hello World, Hello World, Hello World, Hello World, Hello World, Hello World, Hello World, Hello World, Hello World, Hello World00011110000000000000\n",
      "Hello World, Hello World, Hello World, Hello World, Hello World, Hello World, Hello World, Hello World, Hello World, Hello World, Hello World, Hello World, Hello World, Hello World, Hello World, Hello World, Hello World, Hello World, Hello World, Hello World000111100000000000000\n",
      "Hello World, Hello World, Hello World, Hello World, Hello World, Hello World, Hello World, Hello World, Hello World, Hello World, Hello World, Hello World, Hello World, Hello World, Hello World, Hello World, Hello World, Hello World, Hello World, Hello World0001111000000000000000\n",
      "Hello World, Hello World, Hello World, Hello World, Hello World, Hello World, Hello World, Hello World, Hello World, Hello World, Hello World, Hello World, Hello World, Hello World, Hello World, Hello World, Hello World, Hello World, Hello World, Hello World00011110000000000000000\n",
      "Hello World, Hello World, Hello World, Hello World, Hello World, Hello World, Hello World, Hello World, Hello World, Hello World, Hello World, Hello World, Hello World, Hello World, Hello World, Hello World, Hello World, Hello World, Hello World, Hello World000111100000000000000000\n",
      "Hello World, Hello World, Hello World, Hello World, Hello World, Hello World, Hello World, Hello World, Hello World, Hello World, Hello World, Hello World, Hello World, Hello World, Hello World, Hello World, Hello World, Hello World, Hello World, Hello World0001111000000000000000000\n",
      "Hello World, Hello World, Hello World, Hello World, Hello World, Hello World, Hello World, Hello World, Hello World, Hello World, Hello World, Hello World, Hello World, Hello World, Hello World, Hello World, Hello World, Hello World, Hello World, Hello World00011110000000000000000000\n",
      "Hello World, Hello World, Hello World, Hello World, Hello World, Hello World, Hello World, Hello World, Hello World, Hello World, Hello World, Hello World, Hello World, Hello World, Hello World, Hello World, Hello World, Hello World, Hello World, Hello World000111100000000000000000000\n",
      "Hello World, Hello World, Hello World, Hello World, Hello World, Hello World, Hello World, Hello World, Hello World, Hello World, Hello World, Hello World, Hello World, Hello World, Hello World, Hello World, Hello World, Hello World, Hello World, Hello World0001111000000000000000000000\n",
      "Hello World, Hello World, Hello World, Hello World, Hello World, Hello World, Hello World, Hello World, Hello World, Hello World, Hello World, Hello World, Hello World, Hello World, Hello World, Hello World, Hello World, Hello World, Hello World, Hello World00011110000000000000000000000\n",
      "Hello World, Hello World, Hello World, Hello World, Hello World, Hello World, Hello World, Hello World, Hello World, Hello World, Hello World, Hello World, Hello World, Hello World, Hello World, Hello World, Hello World, Hello World, Hello World, Hello World000111100000000000000000000000\n",
      "2304\n",
      "True\n"
     ]
    }
   ],
   "source": [
    "#get the original length of the string\n",
    "print(len(message)*8)\n",
    "\n",
    "#calculate how many padding is needed\n",
    "bits_to_add = 32 - (len(message) % 32)\n",
    "print(bits_to_add)\n",
    "if bits_to_add != 0:\n",
    "    padding_length = format(bits_to_add,'08b')\n",
    "    print(padding_length)\n",
    "    message += padding_length\n",
    "    padding = '0'\n",
    "    bytes = int(bits_to_add-8)\n",
    "    print(bytes)\n",
    "    for i in range(bytes):\n",
    "        message += padding\n",
    "        print(message)\n",
    "print(len(message)*8)\n",
    "#check if the length is a multiplication of 256, if check is True this is the case\n",
    "c = (len(message)*8) % 256\n",
    "check = c == 0\n",
    "print(check)"
   ]
  },
  {
   "cell_type": "markdown",
   "metadata": {},
   "source": [
    "# Divide into segments\n",
    "The last step is to divide the data into segments of 256 bits or 32 bytes."
   ]
  },
  {
   "cell_type": "code",
   "execution_count": 62,
   "metadata": {},
   "outputs": [
    {
     "name": "stdout",
     "output_type": "stream",
     "text": [
      "['Hello World, Hello World, Hello ', 'World, Hello World, Hello World,', ' Hello World, Hello World, Hello', ' World, Hello World, Hello World', ', Hello World, Hello World, Hell', 'o World, Hello World, Hello Worl', 'd, Hello World, Hello World, Hel', 'lo World, Hello World, Hello Wor', 'ld000111100000000000000000000000']\n"
     ]
    }
   ],
   "source": [
    "#create empty list and assign segment length to n\n",
    "segments = []\n",
    "n=32\n",
    "\n",
    "#divide into segments\n",
    "for index in range(0, len(message), n):\n",
    "    segments.append(message[index : index + n])\n",
    "\n",
    "#show list of created segments     \n",
    "print(segments)"
   ]
  },
  {
   "cell_type": "code",
   "execution_count": 65,
   "metadata": {},
   "outputs": [],
   "source": [
    "list =[]\n",
    "for i in segments:\n",
    "    list.append(bytearray(i,'utf-8'))"
   ]
  },
  {
   "cell_type": "code",
   "execution_count": 66,
   "metadata": {},
   "outputs": [
    {
     "data": {
      "text/plain": [
       "[bytearray(b'Hello World, Hello World, Hello '),\n",
       " bytearray(b'World, Hello World, Hello World,'),\n",
       " bytearray(b' Hello World, Hello World, Hello'),\n",
       " bytearray(b' World, Hello World, Hello World'),\n",
       " bytearray(b', Hello World, Hello World, Hell'),\n",
       " bytearray(b'o World, Hello World, Hello Worl'),\n",
       " bytearray(b'd, Hello World, Hello World, Hel'),\n",
       " bytearray(b'lo World, Hello World, Hello Wor'),\n",
       " bytearray(b'ld000111100000000000000000000000')]"
      ]
     },
     "execution_count": 66,
     "metadata": {},
     "output_type": "execute_result"
    }
   ],
   "source": [
    "list"
   ]
  },
  {
   "cell_type": "code",
   "execution_count": null,
   "metadata": {},
   "outputs": [],
   "source": []
  }
 ],
 "metadata": {
  "kernelspec": {
   "display_name": "Python 3",
   "language": "python",
   "name": "python3"
  },
  "language_info": {
   "codemirror_mode": {
    "name": "ipython",
    "version": 3
   },
   "file_extension": ".py",
   "mimetype": "text/x-python",
   "name": "python",
   "nbconvert_exporter": "python",
   "pygments_lexer": "ipython3",
   "version": "3.8.8"
  }
 },
 "nbformat": 4,
 "nbformat_minor": 4
}
