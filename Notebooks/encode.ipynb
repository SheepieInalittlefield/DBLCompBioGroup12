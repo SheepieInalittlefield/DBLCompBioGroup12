{
 "cells": [
  {
   "cell_type": "markdown",
   "id": "applied-drawing",
   "metadata": {},
   "source": [
    "# Encoding a file to DNA using in Binary using fountain codes and Reed-Solomon error correction code"
   ]
  },
  {
   "cell_type": "markdown",
   "id": "italian-colon",
   "metadata": {},
   "source": [
    "# Import\n",
    "First import some python functions"
   ]
  },
  {
   "cell_type": "code",
   "execution_count": null,
   "id": "dirty-representative",
   "metadata": {},
   "outputs": [],
   "source": [
    "#imports\n",
    "import random\n",
    "import math\n",
    "import reedsolo "
   ]
  },
  {
   "cell_type": "markdown",
   "id": "complicated-particular",
   "metadata": {},
   "source": [
    "Open the file as a string and return the string"
   ]
  },
  {
   "cell_type": "code",
   "execution_count": null,
   "id": "communist-relationship",
   "metadata": {},
   "outputs": [],
   "source": [
    "def openfile(filename) -> str:\n",
    "    inf = open(filename)\n",
    "    message = inf.read()\n",
    "    inf.close()\n",
    "    return message"
   ]
  },
  {
   "cell_type": "markdown",
   "id": "wireless-statistics",
   "metadata": {},
   "source": [
    "# Segmentation\n",
    "Segment the data in segments of 32 bytes, using padding to make sure the last segment has the correct lenght"
   ]
  },
  {
   "cell_type": "code",
   "execution_count": null,
   "id": "average-bandwidth",
   "metadata": {},
   "outputs": [],
   "source": [
    "def segment(message) -> list:\n",
    "    bytes_to_add = 32 - (len(message) % 32)\n",
    "    if bytes_to_add != 0:\n",
    "        padding_length = format(bytes_to_add,'08b')\n",
    "        message += padding_length\n",
    "        padding = '0'\n",
    "        bytes = int(bytes_to_add-8)\n",
    "        for i in range(bytes):\n",
    "            message += padding\n",
    "    #check if the length is a multiplication of 256, if check is True this is the case\n",
    "    c = (len(message)*8) % 256\n",
    "    check = c == 0\n",
    "    print(check)\n",
    "    segments = []\n",
    "    n=32\n",
    "    #divide into segments\n",
    "    for index in range(0, len(message), n):\n",
    "        segments.append(message[index : index + n])\n",
    "    segment_list = []\n",
    "    for i in segments:\n",
    "        segment_list.append(bytearray(i,'utf-8'))\n",
    "    return segment_list"
   ]
  },
  {
   "cell_type": "markdown",
   "id": "refined-literacy",
   "metadata": {},
   "source": [
    "# Randomization\n",
    "Randomize the segments in an attempt to reduce homopolymers in the final DNA segments"
   ]
  },
  {
   "cell_type": "code",
   "execution_count": null,
   "id": "suffering-breach",
   "metadata": {},
   "outputs": [],
   "source": [
    "def generate_key(keygenseed) -> int:\n",
    "    #generate a 1 byte key, using a fixed seed so it is repeatable\n",
    "    random.seed(keygenseed)\n",
    "    return random.randint(0,255)"
   ]
  },
  {
   "cell_type": "code",
   "execution_count": null,
   "id": "smaller-bahrain",
   "metadata": {},
   "outputs": [],
   "source": [
    "def randomize(segment, keygenseed) -> bytearray:\n",
    "    # randomize the message 1 byte at a time using keys generated with a fixed seed\n",
    "    randomized_segment = bytearray(len(segment))\n",
    "    for i in range(len(segment)):\n",
    "        key = generate_key(keygenseed)\n",
    "        keygenseed += 1 \n",
    "        randomized_segment[i] = key ^ segment[i]\n",
    "    return randomized_segment"
   ]
  },
  {
   "cell_type": "markdown",
   "id": "hollywood-pacific",
   "metadata": {},
   "source": [
    "# Droplets & Reed_Solomon\n",
    "construct droplets containing a seed, segment and Reed-Solomon error correcting code"
   ]
  },
  {
   "cell_type": "code",
   "execution_count": null,
   "id": "upper-nursing",
   "metadata": {},
   "outputs": [],
   "source": [
    "def ideal_soliton(K) -> list: \n",
    "    # initialize with the first two values, p(0) = 0 and p(1) = 1/K\n",
    "    probabilities = [0, 1/K]\n",
    "    # calculate the rest of the values using p(i) = 1/(i*(i-1))\n",
    "    probabilities += [1/(i*(i-1)) for i in range(2, K+1)]\n",
    "    return probabilities "
   ]
  },
  {
   "cell_type": "code",
   "execution_count": null,
   "id": "french-coupon",
   "metadata": {},
   "outputs": [],
   "source": [
    "def robust_soliton(K,c,delta) -> list:\n",
    "    #initialize with the ideal distribution\n",
    "    probabilities = ideal_soliton(K)\n",
    "    # Define R\n",
    "    R = c*(math.log(K/delta))*math.sqrt(K)\n",
    "    # calculate the additional probabilities\n",
    "    robust_probabilities = [0] + [R/(i*K) for i in range(1, int(K/R)-1)]\n",
    "    robust_probabilities += [(R*math.log(R/delta))/K]\n",
    "    robust_probabilities += [0 for i in range(int(K/R),K+1)]\n",
    "    # add together\n",
    "    probabilities = np.add(robust_probabilities, probabilities)\n",
    "    #normalize \n",
    "    probabilities /= sum(probabilities)\n",
    "    return probabilities"
   ]
  },
  {
   "cell_type": "code",
   "execution_count": null,
   "id": "parallel-fisher",
   "metadata": {},
   "outputs": [],
   "source": [
    "def number_2_bytearray(num): \n",
    "    return bytearray(int(num,2).to_bytes((len(num)+7) // 8, byteorder='big'))"
   ]
  },
  {
   "cell_type": "code",
   "execution_count": null,
   "id": "minimal-recipe",
   "metadata": {},
   "outputs": [],
   "source": [
    "def droplet(randomized_segment, segment_seed) -> bytearray:\n",
    "    test_seed = 655\n",
    "    # convert the test seed into the index that will be packaged into the droplet.\n",
    "    # so for example with seed = 7 = 00000000 00000000 00000000 00000111. we create a byte array of these bytes.\n",
    "    # first convert to bytearray.\n",
    "    seed_array = bytearray(number_2_bytearray(bin(segment_seed)))\n",
    "    if len(seed_array) < 4:  \n",
    "    seed_index = bytearray(4-len(seed_array)) + seed_array\n",
    "    elif len(seed_array) > 4:\n",
    "        if seed_array[0] == 0:\n",
    "            del seed_array[0]\n",
    "            seed_index = seed_array\n",
    "        else:\n",
    "            print(\"seed too big\")\n",
    "   \n",
    "    # create a Pseudo random number generator \n",
    "    prng = random.Random()\n",
    "    prng.seed(segment_seed)\n",
    "    max_choices = len(randomized_segment)\n",
    "    amount = prng.choices(range(0,max_choices+1), robust_soliton(max_choices,0.1,0.05), k = 1)[0]\n",
    "    segments = prng.sample(randomized_segment,k = amount)\n",
    "    droplet = seed_index + bytearray(functools.reduce(lambda i, j: bytes(a^b for (a, b) in zip(i,j)), segments))\n",
    "    \n",
    "    # prepare reedsolomon\n",
    "    rsc = reedsolo.RSCodec(2)\n",
    "    # create the encoded droplet (what will eventually be stored in DNA)\n",
    "    droplet_rs = rsc.encode(droplet)\n",
    "    return droplet_rs"
   ]
  },
  {
   "cell_type": "markdown",
   "id": "intense-leadership",
   "metadata": {},
   "source": [
    "# DNA segments\n",
    "Convert droplets to DNA"
   ]
  },
  {
   "cell_type": "code",
   "execution_count": null,
   "id": "organized-british",
   "metadata": {},
   "outputs": [],
   "source": [
    "#code to transform bytearrays into a 8-bit binary string\n",
    "### insert code ###\n",
    "def bytearray_to_binary(droplet_rs) -> str:\n",
    "    \n",
    "    \n",
    "    return binary_string"
   ]
  },
  {
   "cell_type": "code",
   "execution_count": null,
   "id": "subjective-martial",
   "metadata": {},
   "outputs": [],
   "source": [
    "def Binary2DNA(binary_string):\n",
    "    dna_string = \"\"\n",
    "    for x in [binary_string[i:i+2] for i in range(0,len(binary_string),2)]:\n",
    "        if x == \"00\":\n",
    "            dna_string += \"A\"\n",
    "        if x == \"01\":\n",
    "            dna_string += \"C\"\n",
    "        if x == \"10\":\n",
    "            dna_string += \"G\"\n",
    "        if x == \"11\":\n",
    "            dna_string += \"T\"\n",
    "    return dna_string"
   ]
  }
 ],
 "metadata": {
  "kernelspec": {
   "display_name": "Python 3",
   "language": "python",
   "name": "python3"
  },
  "language_info": {
   "codemirror_mode": {
    "name": "ipython",
    "version": 3
   },
   "file_extension": ".py",
   "mimetype": "text/x-python",
   "name": "python",
   "nbconvert_exporter": "python",
   "pygments_lexer": "ipython3",
   "version": "3.8.8"
  }
 },
 "nbformat": 4,
 "nbformat_minor": 5
}
