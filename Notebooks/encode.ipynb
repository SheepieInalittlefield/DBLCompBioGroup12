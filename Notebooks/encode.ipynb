{
 "cells": [
  {
   "cell_type": "markdown",
   "metadata": {},
   "source": [
    "# Encoding a file to DNA using in Binary using fountain codes and Reed-Solomon error correction code"
   ]
  },
  {
   "cell_type": "markdown",
   "metadata": {},
   "source": [
    "# Import\n",
    "First import some python functions"
   ]
  },
  {
   "cell_type": "code",
   "execution_count": 1,
   "metadata": {},
   "outputs": [],
   "source": [
    "#imports\n",
    "import random\n",
    "import math\n",
    "import reedsolo \n",
    "import os\n",
    "import numpy as np\n",
    "import functools"
   ]
  },
  {
   "cell_type": "markdown",
   "metadata": {},
   "source": [
    "Open the file as a string and return the string"
   ]
  },
  {
   "cell_type": "code",
   "execution_count": 2,
   "metadata": {},
   "outputs": [],
   "source": [
    "def openfile(file_path): \n",
    "    with open(path, 'rb') as file:\n",
    "        data = file.read()\n",
    "    return data"
   ]
  },
  {
   "cell_type": "markdown",
   "metadata": {},
   "source": [
    "# Segmentation\n",
    "Segment the data in segments of 32 bytes, using padding to make sure the last segment has the correct lenght"
   ]
  },
  {
   "cell_type": "code",
   "execution_count": 3,
   "metadata": {},
   "outputs": [],
   "source": [
    "def segment(message) -> list:\n",
    "    bits_to_add = 256 - (len(message) % 256)\n",
    "    if bits_to_add != 0:\n",
    "        padding_length = format(bits_to_add,'08b')\n",
    "        message += padding_length\n",
    "        padding = '0'\n",
    "        bits = int(bits_to_add-8)\n",
    "        for i in range(bits):\n",
    "            message += padding\n",
    "    #check if the length is a multiplication of 256, if check is True this is the case\n",
    "    c = (len(message)*8) % 256\n",
    "    check = c == 0\n",
    "    segments = []\n",
    "    n=256\n",
    "    #divide into segments\n",
    "    for index in range(0, len(message), n):\n",
    "        segments.append(message[index : index + n])\n",
    "    segment_list = []\n",
    "    for i in segments:\n",
    "        segment_list.append(bytearray(i,'utf-8'))\n",
    "    return segment_list"
   ]
  },
  {
   "cell_type": "markdown",
   "metadata": {},
   "source": [
    "# Randomization\n",
    "Randomize the segments in an attempt to reduce homopolymers in the final DNA segments"
   ]
  },
  {
   "cell_type": "code",
   "execution_count": 4,
   "metadata": {},
   "outputs": [],
   "source": [
    "def generate_key(keygenseed) -> int:\n",
    "    #generate a 1 byte key, using a fixed seed so it is repeatable\n",
    "    random.seed(keygenseed)\n",
    "    return random.randint(0,255)"
   ]
  },
  {
   "cell_type": "code",
   "execution_count": 5,
   "metadata": {},
   "outputs": [],
   "source": [
    "def randomize(segment, keygenseed) -> bytearray:\n",
    "    # randomize the message 1 byte at a time using keys generated with a fixed seed\n",
    "    randomized_segment = bytearray(len(segment))\n",
    "    for i in range(len(segment)):\n",
    "        key = generate_key(keygenseed)\n",
    "        keygenseed += 1 \n",
    "        randomized_segment[i] = key ^  segment[i]\n",
    "    return randomized_segment"
   ]
  },
  {
   "cell_type": "markdown",
   "metadata": {},
   "source": [
    "# Droplets & Reed_Solomon\n",
    "Construct droplets containing a seed, segment and Reed-Solomon error correcting code"
   ]
  },
  {
   "cell_type": "code",
   "execution_count": 6,
   "metadata": {},
   "outputs": [],
   "source": [
    "def ideal_soliton(K) -> list: \n",
    "    # initialize with the first two values, p(0) = 0 and p(1) = 1/K\n",
    "    probabilities = [0, 1/K]\n",
    "    # calculate the rest of the values using p(i) = 1/(i*(i-1))\n",
    "    probabilities += [1/(i*(i-1)) for i in range(2, K+1)]\n",
    "    return probabilities "
   ]
  },
  {
   "cell_type": "code",
   "execution_count": 7,
   "metadata": {},
   "outputs": [],
   "source": [
    "def robust_soliton(K,c,delta) -> list:\n",
    "    #initialize with the ideal distribution\n",
    "    probabilities = ideal_soliton(K)\n",
    "    # Define R\n",
    "    R = c*(math.log(K/delta))*math.sqrt(K)\n",
    "    # calculate the additional probabilities\n",
    "    robust_probabilities = [0] + [R/(i*K) for i in range(1, int(K/R)-1)]\n",
    "    robust_probabilities += [(R*math.log(R/delta))/K]\n",
    "    robust_probabilities += [0 for i in range(int(K/R),K+1)]\n",
    "    # add together\n",
    "    probabilities = np.add(robust_probabilities, probabilities)\n",
    "    #normalize \n",
    "    probabilities /= sum(probabilities)\n",
    "    return probabilities"
   ]
  },
  {
   "cell_type": "code",
   "execution_count": 8,
   "metadata": {},
   "outputs": [],
   "source": [
    "def number_2_bytearray(num): \n",
    "    return bytearray(int(num,2).to_bytes((len(num)+7) // 8, byteorder='big'))"
   ]
  },
  {
   "cell_type": "code",
   "execution_count": 9,
   "metadata": {},
   "outputs": [],
   "source": [
    "def prepare_seed(seed): \n",
    "    # convert the test seed into the index that will be packaged into the droplet.\n",
    "    # so for example with seed = 7 = 00000000 00000000 00000000 00000111. we create a byte array of these bytes.\n",
    "    # first convert to bytearray.\n",
    "    seed_array = bytearray(number_2_bytearray(bin(seed)))\n",
    "    seed_index = bytearray()\n",
    "    if len(seed_array) < 4:  \n",
    "        seed_index = bytearray(4-len(seed_array)) + seed_array\n",
    "    elif len(seed_array) > 4:\n",
    "        if seed_array[0] == 0:\n",
    "            del seed_array[0]\n",
    "            seed_index = seed_array\n",
    "        else:\n",
    "            raise Exception(\"seed too big\")\n",
    "    else: \n",
    "        seed_index = seed_array\n",
    "    return seed_index"
   ]
  },
  {
   "cell_type": "code",
   "execution_count": 10,
   "metadata": {},
   "outputs": [],
   "source": [
    "def droplet(randomized_segment, segment_seed, prng) -> bytearray:\n",
    "    prng.seed(segment_seed)\n",
    "    seed_index = prepare_seed(segment_seed)\n",
    "    # max_choices = len(randomized_segment)\n",
    "    amount = prng.choices(range(0,101), robust_soliton(100,0.1,0.05), k = 1)[0]\n",
    "    segments = prng.sample(randomized_segment,k = amount)\n",
    "    droplet = seed_index + bytearray(functools.reduce(lambda i, j: bytes(a^b for (a, b) in zip(i,j)), segments))\n",
    "    # prepare reedsolomon\n",
    "    rsc = reedsolo.RSCodec(2)\n",
    "    # create the encoded droplet (what will eventually be stored in DNA)\n",
    "    droplet_rs = rsc.encode(droplet)\n",
    "    return droplet_rs"
   ]
  },
  {
   "cell_type": "markdown",
   "metadata": {},
   "source": [
    "# LFSR"
   ]
  },
  {
   "cell_type": "code",
   "execution_count": 11,
   "metadata": {},
   "outputs": [],
   "source": [
    "\n",
    "def lfsr(state, mask):\n",
    "    #Galois lfsr:\n",
    "    result = state #Set the first state of the register\n",
    "    nbits = mask.bit_length()-1\n",
    "    while True:\n",
    "        result = (result << 1) #Shift the register left once\n",
    "        xor = result >> nbits #Shift the register right by the amount of bits in the mask -1\n",
    "        if xor != 0: #XOR is useless if it is 0\n",
    "            result ^= mask #XOR the state of the register with the mask\n",
    "\n",
    "        yield result\n",
    "\n",
    "def lfsr32p():\n",
    "    #this function returns a hard coded polynomial (0b100000000000000000000000011000101).\n",
    "    #The polynomial corresponds to 1 + x^25 + x^26 + x^30 + x^32, which is known \n",
    "    #to repeat only after 32^2-1 tries. Don't change unless you know what you are doing.\n",
    "    return 0b100000000000000000000000011000101\n",
    "\n",
    "def lfsr32s():\n",
    "    #this function returns a hard coded state for the lfsr (0b001010101)\n",
    "    #this state is the inital position in the register. You can change it without a major implication.\n",
    "    return 0b001010101\n",
    "\n",
    "\n"
   ]
  },
  {
   "cell_type": "markdown",
   "metadata": {},
   "source": [
    "# DNA segments\n",
    "Convert droplets to DNA"
   ]
  },
  {
   "cell_type": "code",
   "execution_count": 12,
   "metadata": {},
   "outputs": [],
   "source": [
    "#code to transform bytearrays into a 8-bit binary string\n",
    "### insert code ###\n",
    "def bytearray_to_binary(droplet_rs) -> str:\n",
    "    binary_string = \"\"\n",
    "    for i in droplet_rs:\n",
    "        binary_string += format(i, '08b')\n",
    "    return binary_string"
   ]
  },
  {
   "cell_type": "code",
   "execution_count": null,
   "metadata": {},
   "outputs": [],
   "source": []
  },
  {
   "cell_type": "code",
   "execution_count": 13,
   "metadata": {},
   "outputs": [],
   "source": [
    "def Binary2DNA(binary_string):\n",
    "    dna_string = \"\"\n",
    "    for x in [binary_string[i:i+2] for i in range(0,len(binary_string),2)]:\n",
    "        if x == \"00\":\n",
    "            dna_string += \"A\"\n",
    "        if x == \"01\":\n",
    "            dna_string += \"C\"\n",
    "        if x == \"10\":\n",
    "            dna_string += \"G\"\n",
    "        if x == \"11\":\n",
    "            dna_string += \"T\"\n",
    "    return dna_string"
   ]
  },
  {
   "cell_type": "markdown",
   "metadata": {},
   "source": [
    "Check for biochemical constraints"
   ]
  },
  {
   "cell_type": "code",
   "execution_count": 14,
   "metadata": {},
   "outputs": [],
   "source": [
    "def CheckBiochemicalRequirements(s, max_length=3, check=False):\n",
    "    if s.find((max_length+1)*'C') ==-1 & s.find((max_length+1)*'G') ==-1 & s.find((max_length+1)*'T')==-1 & s.find((max_length+1)*'A')==-1:\n",
    "# print('yes, no homopolymers')\n",
    "        nr_CG = s.count('C')+s.count('G')\n",
    "        per_CG=nr_CG/len(s)\n",
    "        if (per_CG < 0.55) & (per_CG > 0.45):\n",
    "#             print('Suitable CG content')\n",
    "            check = True\n",
    "#         else:\n",
    "#             print('CG content not in accepted ranges')\n",
    "#     else:\n",
    "#         print('not a valid sequence: it contains homopolymers longer than three bases')\n",
    "    return check"
   ]
  },
  {
   "cell_type": "markdown",
   "metadata": {},
   "source": [
    "Mainscript"
   ]
  },
  {
   "cell_type": "code",
   "execution_count": 16,
   "metadata": {
    "scrolled": false
   },
   "outputs": [],
   "source": [
    "import os\n",
    "def encode(file_path, seed, extra = 1.05, max_homopolymer = 3) -> list:\n",
    "    \"\"\"\n",
    "    file_path: path to the file to be encoded\n",
    "    seed:  seed for the randomization of data\n",
    "    extra: amount of extra droplets compared to data (default 5%, so 1.05)\n",
    "    max_homopolymer: maximum length of homopolymer sequences allowed (default 3)\n",
    "    \n",
    "    Read and encode a file using the luby transform, returning a list of DNA sequences\n",
    "    \"\"\"\n",
    "    # first read file\n",
    "    data = openfile(file_path)\n",
    "    # make bytearray from data\n",
    "    data = bytearray(data)\n",
    "    # randomize first\n",
    "    data = randomize(data, seed)\n",
    "    # data needs to be converted to string for segmentation\n",
    "    data = bytearray_to_binary(data)\n",
    "    # segment\n",
    "    data = segment(data)\n",
    "    # now the luby transform needs to be applied\n",
    "    total_segments = len(data)\n",
    "    droplets = []\n",
    "    data_bytearray = []\n",
    "    # create a Pseudo random number generator \n",
    "    prng = random.Random()\n",
    "    # first convert segments to bytearrays \n",
    "    seed_lfsr = lfsr(lfsr32s(), lfsr32p()) #starting an lfsr with a certain state and a polynomial for 32bits.\n",
    "    for i in data:\n",
    "        data_bytearray.append(number_2_bytearray(i))\n",
    "    while len(droplets) < int(extra*total_segments):\n",
    "        # generate a seed for droplet making\n",
    "        seed = next(seed_lfsr)\n",
    "        # create droplet\n",
    "        current_drop = droplet(data_bytearray, seed, prng)\n",
    "        # convert drop to string and then DNA\n",
    "        current_drop = Binary2DNA(bytearray_to_binary(current_drop))\n",
    "        # check biochemical requirements and append to list of droplets if ok\n",
    "        if CheckBiochemicalRequirements(current_drop, max_homopolymer):\n",
    "            droplets.append(current_drop)\n",
    "    return droplets\n",
    "path = os.path.relpath(\"C:\\\\Users\\\\justi\\\\Documents\\\\DBLCompBioGroup12\\\\Data\\\\Research_Proposal_Group_12-1.pdf\")\n",
    "encoded = encode(path, 7)\n",
    "            "
   ]
  },
  {
   "cell_type": "code",
   "execution_count": 18,
   "metadata": {},
   "outputs": [
    {
     "data": {
      "text/plain": [
       "152"
      ]
     },
     "execution_count": 18,
     "metadata": {},
     "output_type": "execute_result"
    }
   ],
   "source": []
  },
  {
   "cell_type": "code",
   "execution_count": null,
   "metadata": {},
   "outputs": [],
   "source": []
  },
  {
   "cell_type": "code",
   "execution_count": null,
   "metadata": {},
   "outputs": [],
   "source": []
  },
  {
   "cell_type": "code",
   "execution_count": null,
   "metadata": {},
   "outputs": [],
   "source": []
  }
 ],
 "metadata": {
  "kernelspec": {
   "display_name": "Python 3",
   "language": "python",
   "name": "python3"
  },
  "language_info": {
   "codemirror_mode": {
    "name": "ipython",
    "version": 3
   },
   "file_extension": ".py",
   "mimetype": "text/x-python",
   "name": "python",
   "nbconvert_exporter": "python",
   "pygments_lexer": "ipython3",
   "version": "3.8.5"
  }
 },
 "nbformat": 4,
 "nbformat_minor": 5
}
