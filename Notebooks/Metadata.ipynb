{
 "cells": [
  {
   "cell_type": "markdown",
   "id": "ruled-experience",
   "metadata": {},
   "source": [
    "# Metadata to DNA"
   ]
  },
  {
   "cell_type": "markdown",
   "id": "spiritual-retrieval",
   "metadata": {},
   "source": [
    "# Imports"
   ]
  },
  {
   "cell_type": "code",
   "execution_count": 1,
   "id": "suitable-packet",
   "metadata": {},
   "outputs": [],
   "source": [
    "import numpy as np\n",
    "import math\n",
    "import random"
   ]
  },
  {
   "cell_type": "markdown",
   "id": "banned-findings",
   "metadata": {},
   "source": [
    "# Encoding"
   ]
  },
  {
   "cell_type": "markdown",
   "id": "exceptional-history",
   "metadata": {},
   "source": [
    "# Huffmann encoding\n",
    "Using Huffman encoding to convert a number to a triplet base system which is then encoded into DNA"
   ]
  },
  {
   "cell_type": "code",
   "execution_count": 2,
   "id": "later-interval",
   "metadata": {},
   "outputs": [],
   "source": [
    "def SegmentAmount2DNA(number) -> str:\n",
    "    base_3 = np.base_repr(number,base=3)\n",
    "    meta_string=''\n",
    "\n",
    "    A_dic = {'0':\"C\", '1': \"G\", '2':\"T\"}\n",
    "    C_dic = {'0':\"G\", '1': \"T\", '2':\"A\"}\n",
    "    G_dic = {'0':\"T\", '1': \"A\", '2':\"C\"}\n",
    "    T_dic = {'0':\"A\", '1': \"C\", '2':\"G\"}\n",
    "\n",
    "    for i in range(len(base_3)):\n",
    "        if i == 0:\n",
    "            nucleotide = A_dic[base_3[i]]\n",
    "        elif meta_string[i-1] == 'A':\n",
    "            nucleotide = A_dic[base_3[i]]\n",
    "        elif meta_string[i-1] == 'C':\n",
    "            nucleotide = C_dic[base_3[i]]\n",
    "        elif meta_string[i-1] == 'G':\n",
    "            nucleotide = G_dic[base_3[i]]\n",
    "        elif meta_string[i-1] == 'T':\n",
    "            nucleotide = T_dic[base_3[i]]\n",
    "        meta_string = meta_string + nucleotide\n",
    "    return meta_string"
   ]
  },
  {
   "cell_type": "markdown",
   "id": "chemical-webmaster",
   "metadata": {},
   "source": []
  },
  {
   "cell_type": "markdown",
   "id": "impressed-roulette",
   "metadata": {},
   "source": [
    "# Create random segment"
   ]
  },
  {
   "cell_type": "code",
   "execution_count": 3,
   "id": "determined-surname",
   "metadata": {},
   "outputs": [],
   "source": [
    "def random_segment(meta_string) -> str:\n",
    "    \"\"\"\n",
    "    INPUT:\n",
    "    meta_string: string with the metadata in bases\n",
    "    OUTPUT:\n",
    "    random_segment: randomly created segment which can be added to the meta_string to form the final sequence if it passes biochemical restraints\n",
    "                    segment is a palindrome to make it more recognisable\n",
    "    \"\"\"\n",
    "    random_segment = ''\n",
    "    j = int(math.ceil(((56 - len(meta_string))/2)))\n",
    "    for i in range(j):\n",
    "        x = random.randint(1,4)\n",
    "        if x == 1:\n",
    "            random_segment += 'A'\n",
    "        elif x == 2:\n",
    "            random_segment += 'T'\n",
    "        elif x == 3:\n",
    "            random_segment += 'C'\n",
    "        elif x == 4:\n",
    "            random_segment += 'G'\n",
    "    reverse = random_segment[::-1]\n",
    "    if (j % 2) == 0:\n",
    "        random_segment += reverse\n",
    "    else:\n",
    "        reverse = reverse[1:]\n",
    "        random_segment += reverse\n",
    "    return random_segment"
   ]
  },
  {
   "cell_type": "markdown",
   "id": "close-pepper",
   "metadata": {},
   "source": [
    "# Biochemical requirements"
   ]
  },
  {
   "cell_type": "code",
   "execution_count": 4,
   "id": "looking-chambers",
   "metadata": {},
   "outputs": [],
   "source": [
    "def CheckBiochemicalRequirements(s, max_length=3, check=False):\n",
    "    if s.find((max_length+1)*'C') ==-1 & s.find((max_length+1)*'G') ==-1 & s.find((max_length+1)*'T')==-1 & s.find((max_length+1)*'A')==-1:\n",
    " #       print('yes, no homopolymers')\n",
    "        nr_CG = s.count('C')+s.count('G')\n",
    "        per_CG=nr_CG/len(s)\n",
    " #       print(per_CG)\n",
    "        if (per_CG < 0.55) & (per_CG > 0.45):\n",
    " #           print('Suitable CG content')\n",
    "            check = True\n",
    "      #  else:\n",
    " #           print('CG content not in accepted ranges')\n",
    "    #else:\n",
    " #        print('not a valid sequence: it contains homopolymers longer than three bases')\n",
    "    return check"
   ]
  },
  {
   "cell_type": "markdown",
   "id": "finite-administrator",
   "metadata": {},
   "source": [
    "# Main script metasegment encode"
   ]
  },
  {
   "cell_type": "code",
   "execution_count": 5,
   "id": "electric-chassis",
   "metadata": {},
   "outputs": [],
   "source": [
    "def encode_metasegment(number) -> str:\n",
    "    \"\"\"\n",
    "    INPUT:\n",
    "    number: number of segments the datafile is split in\n",
    "    OUTPUT:\n",
    "    metasegment: segment containing metadata in DNA form\n",
    "    \"\"\"\n",
    "    recognise_metadata = 'ATCGATCGATCGATCGATCG'\n",
    "    meta_string = SegmentAmount2DNA(number)\n",
    "    metasegment = ''\n",
    "    while len(metasegment) < 1:\n",
    "        Random = random_segment(meta_string)\n",
    "        metadata = recognise_metadata + meta_string + Random\n",
    "        if CheckBiochemicalRequirements(metadata) == True:\n",
    "            metasegment += metadata\n",
    "    metasegment += metasegment\n",
    "    return metasegment"
   ]
  },
  {
   "cell_type": "markdown",
   "id": "aggressive-prize",
   "metadata": {},
   "source": [
    "# Decoding"
   ]
  },
  {
   "cell_type": "markdown",
   "id": "miniature-establishment",
   "metadata": {},
   "source": [
    "# Huffman decoding"
   ]
  },
  {
   "cell_type": "code",
   "execution_count": 6,
   "id": "external-execution",
   "metadata": {},
   "outputs": [],
   "source": [
    "def DNA2SegmentLength(s):\n",
    "    base_3 = ''\n",
    "    A_dic = {'C':\"0\", 'G': \"1\", 'T':\"2\"}\n",
    "    C_dic = {'G':\"0\", 'T': \"1\", 'A':\"2\"}\n",
    "    G_dic = {'T':\"0\", 'A': \"1\", 'C':\"2\"}\n",
    "    T_dic = {'A':\"0\", 'C': \"1\", 'G':\"2\"}\n",
    "\n",
    "    for i in range(len(s)):\n",
    "        if i == 0:\n",
    "            digit = A_dic[s[i]]\n",
    "        elif s[i-1] == 'A':\n",
    "            digit = A_dic[s[i]]\n",
    "        elif s[i-1] == 'C':\n",
    "            digit = C_dic[s[i]]\n",
    "        elif s[i-1] == 'G':\n",
    "            digit = G_dic[s[i]]\n",
    "        elif s[i-1] == 'T':\n",
    "            digit = T_dic[s[i]]\n",
    "        base_3 = base_3 + digit\n",
    "    segment_length=0\n",
    "    for i in range(-1,-len(base_3)-1,-1):\n",
    "        segment_length = segment_length + int(base_3[i])*3**(-i-1)\n",
    "    \n",
    "    return segment_length"
   ]
  },
  {
   "cell_type": "markdown",
   "id": "composed-design",
   "metadata": {},
   "source": [
    "# Find Palindrome"
   ]
  },
  {
   "cell_type": "code",
   "execution_count": 7,
   "id": "regular-little",
   "metadata": {},
   "outputs": [],
   "source": [
    "def palindromeSubStrs(s):\n",
    "    \"\"\"\n",
    "    Function to find the longest palindrome in a string\n",
    "    Input:\n",
    "    s: string of nucleotides\n",
    "    Output:\n",
    "    palindrome: longest palindrome in s   \n",
    "    \n",
    "    \"\"\"\n",
    "    m = dict()\n",
    "    n = len(s)\n",
    "\n",
    "    # table for storing results (2 rows for odd-\n",
    "    # and even-length palindromes\n",
    "    R = [[0 for x in range(n+1)] for x in range(2)]\n",
    "\n",
    "    # Find all sub-string palindromes from the given input\n",
    "    # string insert 'guards' to iterate easily over s\n",
    "    s = \"@\" + s + \"#\"\n",
    "\n",
    "    for j in range(2):\n",
    "        rp = 0 # length of 'palindrome radius'\n",
    "        R[j][0] = 0\n",
    "\n",
    "        i = 1\n",
    "        while i <= n:\n",
    "\n",
    "            # Attempt to expand palindrome centered at i\n",
    "            while s[i - rp - 1] == s[i + j + rp]:\n",
    "                rp += 1 # Incrementing the length of palindromic\n",
    "                        # radius as and when we find valid palindrome\n",
    "\n",
    "            # Assigning the found palindromic length to odd/even\n",
    "            # length array\n",
    "            R[j][i] = rp\n",
    "            k = 1\n",
    "            while (R[j][i - k] != rp - k) and (k < rp):\n",
    "                R[j][i+k] = min(R[j][i-k], rp - k)\n",
    "                k += 1\n",
    "            rp = max(rp - k, 0)\n",
    "            i += k\n",
    "\n",
    "    # remove guards\n",
    "    s = s[1:len(s)-1]\n",
    "\n",
    "    # Put all obtained palindromes in a hash map to\n",
    "    # find only distinct palindrome\n",
    "    m[s[0]] = 1\n",
    "    for i in range(1,n):\n",
    "        for j in range(2):\n",
    "            for rp in range(R[j][i],0,-1):\n",
    "                m[s[i - rp - 1 : i - rp - 1 + 2 * rp + j]] = 1\n",
    "        m[s[i]] = 1\n",
    "\n",
    "\n",
    "    # find longest palindrome and return this\n",
    "    palindrome = max(m, key=len)\n",
    "    return palindrome\n",
    "    \n",
    "# Driver program\n",
    "\n",
    "# This code is contributed by BHAVYA JAIN and ROHIT SIKKA\n",
    "# https://www.geeksforgeeks.org/find-number-distinct-palindromic-sub-strings-given-string/"
   ]
  },
  {
   "cell_type": "markdown",
   "id": "biological-probability",
   "metadata": {},
   "source": [
    "# Main script metasegment decode"
   ]
  },
  {
   "cell_type": "code",
   "execution_count": 8,
   "id": "earned-retailer",
   "metadata": {},
   "outputs": [],
   "source": [
    "def decode_metasegment(metasegment) -> int:\n",
    "    \"\"\"\n",
    "    Function to decode metasegments made by encode_metasegment\n",
    "    INPUT:\n",
    "    metasegment: segment returned after sequencing\n",
    "    OUTPUT:\n",
    "    number_off_segments: number of segments the file was divided in according to this segment, \n",
    "    this can be a single int or 2 integers based on if an error occured in one of the parts coding for the amount of segments\n",
    "    \"\"\"\n",
    "    #check length\n",
    "    if len(metasegment) == 152:\n",
    "        s1 = metasegment[:len(metasegment)//2]\n",
    "        s2 = metasegment[len(metasegment)//2:]\n",
    "        #check if both halfs are the same\n",
    "        if s1 == s2:\n",
    "            s1 = s1.replace(\"ATCGATCGATCGATCGATCG\", \"\")\n",
    "            #Find palindrome\n",
    "            palindrome = palindromeSubStrs(s1)\n",
    "            #remove palindrome\n",
    "            s1 = s1.replace(palindrome,\"\")\n",
    "            #Decode amount of segments\n",
    "            number_of_segments = int(DNA2SegmentLength(s1))\n",
    "        \n",
    "        else:\n",
    "            s1 = s1[20:]\n",
    "            s2 = s2[20:]\n",
    "            palindrome_s1 = palindromeSubStrs(s1)\n",
    "            palindrome_s2 = palindromeSubStrs(s2)\n",
    "            if palindrome_s1 == palindrome_s2:\n",
    "                s1 = s1.replace(palindrome_s1,\"\")  \n",
    "                s2 = s2.replace(palindrome_s2,\"\") \n",
    "                if s1 == s2:\n",
    "                    number_of_segments = int(DNA2SegmentLength(s1))\n",
    "                else:\n",
    "                    number_of_segments = []\n",
    "                    number_of_segments.append(int(DNA2SegmentLength(s1)))\n",
    "                    number_of_segments.append(int(DNA2SegmentLength(s2)))\n",
    "            else:\n",
    "                palindrome = [palindrome_s1, palindrome_s2]\n",
    "                print(palindrome)\n",
    "                longest_palindrome = max(palindrome,key=len)\n",
    "                print(longest_palindrome)\n",
    "                s1 = s1[:(len(s1)-len(longest_palindrome))]\n",
    "                print(s1)\n",
    "                s2 = s2[:(len(s2)-len(longest_palindrome))]\n",
    "                if s1 == s2:\n",
    "                    number_of_segments = int(DNA2SegmentLength(s1))\n",
    "                else:\n",
    "                    number_of_segments = []\n",
    "                    number_of_segments.append(int(DNA2SegmentLength(s1)))\n",
    "                    number_of_segments.append(int(DNA2SegmentLength(s2)))\n",
    "                    \n",
    "    else:\n",
    "        print('Segment length is not 152 bases!')\n",
    "    return number_of_segments"
   ]
  },
  {
   "cell_type": "markdown",
   "id": "minus-justice",
   "metadata": {},
   "source": [
    "# Test"
   ]
  },
  {
   "cell_type": "code",
   "execution_count": 9,
   "id": "greater-mouse",
   "metadata": {},
   "outputs": [],
   "source": [
    "segment = encode_metasegment(60000)\n"
   ]
  },
  {
   "cell_type": "code",
   "execution_count": 10,
   "id": "political-tooth",
   "metadata": {},
   "outputs": [],
   "source": [
    "segments = decode_metasegment(segment)"
   ]
  },
  {
   "cell_type": "code",
   "execution_count": 11,
   "id": "editorial-renaissance",
   "metadata": {},
   "outputs": [
    {
     "name": "stdout",
     "output_type": "stream",
     "text": [
      "60000\n"
     ]
    }
   ],
   "source": [
    "print(segments)"
   ]
  }
 ],
 "metadata": {
  "kernelspec": {
   "display_name": "Python 3",
   "language": "python",
   "name": "python3"
  },
  "language_info": {
   "codemirror_mode": {
    "name": "ipython",
    "version": 3
   },
   "file_extension": ".py",
   "mimetype": "text/x-python",
   "name": "python",
   "nbconvert_exporter": "python",
   "pygments_lexer": "ipython3",
   "version": "3.8.8"
  }
 },
 "nbformat": 4,
 "nbformat_minor": 5
}
