{
 "cells": [
  {
   "cell_type": "markdown",
   "id": "occupied-retention",
   "metadata": {},
   "source": [
    "# Metadata to DNA"
   ]
  },
  {
   "cell_type": "markdown",
   "id": "dedicated-boxing",
   "metadata": {},
   "source": [
    "# Imports"
   ]
  },
  {
   "cell_type": "code",
   "execution_count": null,
   "id": "alive-latter",
   "metadata": {},
   "outputs": [],
   "source": [
    "import numpy as np\n",
    "import math\n",
    "import random"
   ]
  },
  {
   "cell_type": "markdown",
   "id": "particular-space",
   "metadata": {},
   "source": [
    "# Encoding"
   ]
  },
  {
   "cell_type": "markdown",
   "id": "unexpected-prevention",
   "metadata": {},
   "source": [
    "# Huffmann encoding\n",
    "Using Huffman encoding to convert a number to a triplet base system which is then encoded into DNA"
   ]
  },
  {
   "cell_type": "code",
   "execution_count": null,
   "id": "transparent-mills",
   "metadata": {},
   "outputs": [],
   "source": [
    "def SegmentAmount2DNA(number) -> str:\n",
    "    base_3 = np.base_repr(number,base=3)\n",
    "    meta_string=''\n",
    "\n",
    "    A_dic = {'0':\"C\", '1': \"G\", '2':\"T\"}\n",
    "    C_dic = {'0':\"G\", '1': \"T\", '2':\"A\"}\n",
    "    G_dic = {'0':\"T\", '1': \"A\", '2':\"C\"}\n",
    "    T_dic = {'0':\"A\", '1': \"C\", '2':\"G\"}\n",
    "\n",
    "    for i in range(len(base_3)):\n",
    "        if i == 0:\n",
    "            nucleotide = A_dic[base_3[i]]\n",
    "        elif meta_string[i-1] == 'A':\n",
    "            nucleotide = A_dic[base_3[i]]\n",
    "        elif meta_string[i-1] == 'C':\n",
    "            nucleotide = C_dic[base_3[i]]\n",
    "        elif meta_string[i-1] == 'G':\n",
    "            nucleotide = G_dic[base_3[i]]\n",
    "        elif meta_string[i-1] == 'T':\n",
    "            nucleotide = T_dic[base_3[i]]\n",
    "        meta_string = meta_string + nucleotide\n",
    "    return meta_string"
   ]
  },
  {
   "cell_type": "markdown",
   "id": "universal-tuning",
   "metadata": {},
   "source": []
  },
  {
   "cell_type": "markdown",
   "id": "continued-sudan",
   "metadata": {},
   "source": [
    "# Create random segment"
   ]
  },
  {
   "cell_type": "code",
   "execution_count": null,
   "id": "swiss-toolbox",
   "metadata": {},
   "outputs": [],
   "source": [
    "def random_segment(meta_string):\n",
    "    random_segment = ''\n",
    "    j = int(math.ceil(((50 - len(meta_string))/2)))\n",
    "    for i in range(j):\n",
    "        x = random.randint(1,4)\n",
    "        if x == 1:\n",
    "            random_segment += 'A'\n",
    "        elif x == 2:\n",
    "            random_segment += 'T'\n",
    "        elif x == 3:\n",
    "            random_segment += 'C'\n",
    "        elif x == 4:\n",
    "            random_segment += 'G'\n",
    "    reverse = random_segment[::-1]\n",
    "    if (j % 2) == 0:\n",
    "        random_segment += reverse\n",
    "    else:\n",
    "        reverse = reverse[1:]\n",
    "        random_segment += reverse\n",
    "    print(random_segment)\n",
    "    return random_segment"
   ]
  },
  {
   "cell_type": "markdown",
   "id": "ignored-radio",
   "metadata": {},
   "source": [
    "# Biochemical requirements"
   ]
  },
  {
   "cell_type": "code",
   "execution_count": null,
   "id": "after-perth",
   "metadata": {},
   "outputs": [],
   "source": [
    "def CheckBiochemicalRequirements(s, max_length=3, check=False):\n",
    "    if s.find((max_length+1)*'C') ==-1 & s.find((max_length+1)*'G') ==-1 & s.find((max_length+1)*'T')==-1 & s.find((max_length+1)*'A')==-1:\n",
    " #       print('yes, no homopolymers')\n",
    "        nr_CG = s.count('C')+s.count('G')\n",
    "        per_CG=nr_CG/len(s)\n",
    " #       print(per_CG)\n",
    "        if (per_CG < 0.55) & (per_CG > 0.45):\n",
    " #           print('Suitable CG content')\n",
    "            check = True\n",
    "      #  else:\n",
    " #           print('CG content not in accepted ranges')\n",
    "    #else:\n",
    " #        print('not a valid sequence: it contains homopolymers longer than three bases')\n",
    "    return check"
   ]
  },
  {
   "cell_type": "markdown",
   "id": "characteristic-queens",
   "metadata": {},
   "source": [
    "# Main script metasegment encode"
   ]
  },
  {
   "cell_type": "code",
   "execution_count": null,
   "id": "contrary-receipt",
   "metadata": {},
   "outputs": [],
   "source": [
    "def metasegment(number)->str:\n",
    "    meta_string = SegmentAmount2DNA(number)\n",
    "    metasegment = ''\n",
    "    while len(metasegment) < 1:\n",
    "        Random = random_segment(meta_string)\n",
    "        metadata = meta_string + Random\n",
    "        if CheckBiochemicalRequirements(metadata) == True:\n",
    "            metasegment += metadata\n",
    "    metasegment += metasegment\n",
    "    return metasegment"
   ]
  },
  {
   "cell_type": "markdown",
   "id": "neither-project",
   "metadata": {},
   "source": [
    "# Decoding"
   ]
  },
  {
   "cell_type": "markdown",
   "id": "guilty-longitude",
   "metadata": {},
   "source": [
    "# Huffman decoding"
   ]
  },
  {
   "cell_type": "code",
   "execution_count": null,
   "id": "stopped-classroom",
   "metadata": {},
   "outputs": [],
   "source": [
    "def DNA2SegmentLength(s):\n",
    "    base_3 = ''\n",
    "    A_dic = {'C':\"0\", 'G': \"1\", 'T':\"2\"}\n",
    "    C_dic = {'G':\"0\", 'T': \"1\", 'A':\"2\"}\n",
    "    G_dic = {'T':\"0\", 'A': \"1\", 'C':\"2\"}\n",
    "    T_dic = {'A':\"0\", 'C': \"1\", 'G':\"2\"}\n",
    "\n",
    "    for i in range(len(s)):\n",
    "        if i == 0:\n",
    "            digit = A_dic[s[i]]\n",
    "        elif s[i-1] == 'A':\n",
    "            digit = A_dic[s[i]]\n",
    "        elif s[i-1] == 'C':\n",
    "            digit = C_dic[s[i]]\n",
    "        elif s[i-1] == 'G':\n",
    "            digit = G_dic[s[i]]\n",
    "        elif s[i-1] == 'T':\n",
    "            digit = T_dic[s[i]]\n",
    "        base_3 = base_3 + digit\n",
    "    segment_length=0\n",
    "    for i in range(-1,-len(base_3)-1,-1):\n",
    "        segment_length = segment_length + int(base_3[i])*3**(-i-1)\n",
    "    \n",
    "    return segment_length"
   ]
  },
  {
   "cell_type": "code",
   "execution_count": null,
   "id": "advisory-commons",
   "metadata": {},
   "outputs": [],
   "source": []
  },
  {
   "cell_type": "code",
   "execution_count": null,
   "id": "collect-toner",
   "metadata": {},
   "outputs": [],
   "source": []
  },
  {
   "cell_type": "markdown",
   "id": "owned-bouquet",
   "metadata": {},
   "source": []
  },
  {
   "cell_type": "code",
   "execution_count": null,
   "id": "metallic-instrumentation",
   "metadata": {},
   "outputs": [],
   "source": []
  }
 ],
 "metadata": {
  "kernelspec": {
   "display_name": "Python 3",
   "language": "python",
   "name": "python3"
  },
  "language_info": {
   "codemirror_mode": {
    "name": "ipython",
    "version": 3
   },
   "file_extension": ".py",
   "mimetype": "text/x-python",
   "name": "python",
   "nbconvert_exporter": "python",
   "pygments_lexer": "ipython3",
   "version": "3.8.8"
  }
 },
 "nbformat": 4,
 "nbformat_minor": 5
}
