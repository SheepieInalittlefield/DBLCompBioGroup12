{
 "cells": [
  {
   "cell_type": "code",
   "execution_count": 6,
   "metadata": {},
   "outputs": [
    {
     "ename": "IndentationError",
     "evalue": "expected an indented block (<ipython-input-6-4f4f0811fb22>, line 13)",
     "output_type": "error",
     "traceback": [
      "\u001b[1;36m  File \u001b[1;32m\"<ipython-input-6-4f4f0811fb22>\"\u001b[1;36m, line \u001b[1;32m13\u001b[0m\n\u001b[1;33m    else:\u001b[0m\n\u001b[1;37m    ^\u001b[0m\n\u001b[1;31mIndentationError\u001b[0m\u001b[1;31m:\u001b[0m expected an indented block\n"
     ]
    }
   ],
   "source": [
    "s = 'AAACAAGGGCGCGCGGTTATCGTT'\n",
    "\n",
    "def CheckBiochemicalRequirements(s, max_length=3, check=False):\n",
    "    if s.find((max_length+1)*'C') ==-1 & s.find((max_length+1)*'G') ==-1 & s.find((max_length+1)*'T')==-1 & s.find((max_length+1)*'A')==-1:\n",
    "#         print('yes, no homopolymers')\n",
    "        nr_CG = s.count('C')+s.count('G')\n",
    "        per_CG=nr_CG/len(s)\n",
    "        if (per_CG < 0.55) & (per_CG > 0.45):\n",
    "#             print('Suitable CG content')\n",
    "            check = True\n",
    "#         else:\n",
    "#             print('CG content not in accepted ranges')\n",
    "#     else:\n",
    "#         print('not a valid sequence: it contains homopolymers longer than three bases')\n",
    "    return check\n",
    "CheckBiochemicalRequirements(s)"
   ]
  }
 ],
 "metadata": {
  "kernelspec": {
   "display_name": "Python 3",
   "language": "python",
   "name": "python3"
  },
  "language_info": {
   "codemirror_mode": {
    "name": "ipython",
    "version": 3
   },
   "file_extension": ".py",
   "mimetype": "text/x-python",
   "name": "python",
   "nbconvert_exporter": "python",
   "pygments_lexer": "ipython3",
   "version": "3.7.3"
  }
 },
 "nbformat": 4,
 "nbformat_minor": 2
}
