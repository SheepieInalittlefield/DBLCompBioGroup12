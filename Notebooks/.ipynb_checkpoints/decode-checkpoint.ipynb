{
 "cells": [
  {
   "cell_type": "markdown",
   "id": "frequent-netherlands",
   "metadata": {},
   "source": [
    "# Decode DNA-segments back to the original file"
   ]
  },
  {
   "cell_type": "markdown",
   "id": "sacred-cylinder",
   "metadata": {},
   "source": [
    "# Imports"
   ]
  },
  {
   "cell_type": "code",
   "execution_count": null,
   "id": "difficult-collaboration",
   "metadata": {},
   "outputs": [],
   "source": [
    "import random\n",
    "import math\n",
    "import numpy as np\n",
    "import functools\n",
    "import reedsolo "
   ]
  },
  {
   "cell_type": "markdown",
   "id": "worst-garbage",
   "metadata": {},
   "source": [
    "# DNA requirements"
   ]
  },
  {
   "cell_type": "code",
   "execution_count": null,
   "id": "improving-saver",
   "metadata": {},
   "outputs": [],
   "source": [
    "def CheckBiochemicalRequirements(s, max_length=3, check=False):\n",
    "    if s.find((max_length+1)*'C') ==-1 & s.find((max_length+1)*'G') ==-1 & s.find((max_length+1)*'T')==-1 & s.find((max_length+1)*'A')==-1:\n",
    "#         print('yes, no homopolymers')\n",
    "        nr_CG = s.count('C')+s.count('G')\n",
    "        per_CG=nr_CG/len(s)\n",
    "        if (per_CG < 0.55) & (per_CG > 0.45):\n",
    "#             print('Suitable CG content')\n",
    "            check = True\n",
    "#         else:\n",
    "#             print('CG content not in accepted ranges')\n",
    "#     else:\n",
    "#         print('not a valid sequence: it contains homopolymers longer than three bases')\n",
    "    return check"
   ]
  },
  {
   "cell_type": "code",
   "execution_count": null,
   "id": "angry-permit",
   "metadata": {},
   "outputs": [],
   "source": [
    "#check voor de lengte van de oligo toegevoegd, als dit niet klopt proberen te solven met reed-solomon\n",
    "def check_oligo_length(s,length=152,check_lenght=False):\n",
    "    if len(s) == length:\n",
    "        check_length = True\n",
    "    else:\n",
    "        if len(s) < length:\n",
    "        print('oligo length is too short')\n",
    "        else:\n",
    "            print('oligo length is too long')\n",
    "    return check_length"
   ]
  },
  {
   "cell_type": "markdown",
   "id": "hindu-picnic",
   "metadata": {},
   "source": [
    "# Convert DNA to binary"
   ]
  },
  {
   "cell_type": "code",
   "execution_count": null,
   "id": "accessible-edgar",
   "metadata": {},
   "outputs": [],
   "source": [
    "def DNA2Binary(s):\n",
    "    bs = \"\"\n",
    "    for x in s:\n",
    "        if x == \"A\":\n",
    "            bs = bs + \"00\"\n",
    "        if x == \"C\":\n",
    "            bs = bs + \"01\"\n",
    "        if x == \"G\":\n",
    "            bs = bs + \"10\"\n",
    "        if x == \"T\":\n",
    "            bs = bs + \"11\"\n",
    "    return bs"
   ]
  },
  {
   "cell_type": "code",
   "execution_count": null,
   "id": "friendly-legislature",
   "metadata": {},
   "outputs": [],
   "source": [
    "def string_to_bytearray(bs):\n",
    "    ba = bytarray(bs,'utf-8')\n",
    "    return ba"
   ]
  },
  {
   "cell_type": "markdown",
   "id": "patent-supplement",
   "metadata": {},
   "source": [
    "# Reed-Solomon"
   ]
  },
  {
   "cell_type": "code",
   "execution_count": null,
   "id": "structural-procedure",
   "metadata": {},
   "outputs": [],
   "source": [
    "def Reed_solo(ba):\n",
    "    decoded_rs = rsc.decode(ba)[0]\n",
    "    return decoded_rs"
   ]
  },
  {
   "cell_type": "markdown",
   "id": "endless-whale",
   "metadata": {},
   "source": [
    "# Recover seed"
   ]
  },
  {
   "cell_type": "code",
   "execution_count": null,
   "id": "involved-pantyhose",
   "metadata": {},
   "outputs": [],
   "source": [
    "def ideal_soliton(K) -> list: \n",
    "    # initialize with the first two values, p(0) = 0 and p(1) = 1/K\n",
    "    probabilities = [0, 1/K]\n",
    "    # calculate the rest of the values using p(i) = 1/(i*(i-1))\n",
    "    probabilities += [1/(i*(i-1)) for i in range(2, K+1)]\n",
    "    return probabilities "
   ]
  },
  {
   "cell_type": "code",
   "execution_count": null,
   "id": "vietnamese-decrease",
   "metadata": {},
   "outputs": [],
   "source": [
    "def robust_soliton(K,c,delta) -> list:\n",
    "    #initialize with the ideal distribution\n",
    "    probabilities = ideal_soliton(K)\n",
    "    # Define R\n",
    "    R = c*(math.log(K/delta))*math.sqrt(K)\n",
    "    # calculate the additional probabilities\n",
    "    robust_probabilities = [0] + [R/(i*K) for i in range(1, int(K/R)-1)]\n",
    "    robust_probabilities += [(R*math.log(R/delta))/K]\n",
    "    robust_probabilities += [0 for i in range(int(K/R),K+1)]\n",
    "    # add together\n",
    "    probabilities = np.add(robust_probabilities, probabilities)\n",
    "    #normalize \n",
    "    probabilities /= sum(probabilities)\n",
    "    return probabilities"
   ]
  },
  {
   "cell_type": "code",
   "execution_count": null,
   "id": "european-northwest",
   "metadata": {},
   "outputs": [],
   "source": [
    "def recover_seed(decoded_rs)\n",
    "    droplet_seed = decoded_rs[0,32]\n",
    "    prng.seed(droplet_seed)\n",
    "    amount_recovery = prng.choices(range(0,max_choices+1), robust_soliton(max_choices,0.1,0.05), k = 1)[0]\n",
    "    assert amount_recovery == amount \n",
    "    #I can't think of a way to do this without having prior knowledge of the amount of stored data... something to discuss\n",
    "    segment_indices = prng.sample(range(len(data_bytearray)), k = amount_recovery)\n",
    "    segment_test = []\n",
    "    for i in segment_indices:\n",
    "        segment_test.append(data_bytearray[i])\n",
    "    assert segment_test == segments\n",
    "    return (amount, segment_indices)"
   ]
  },
  {
   "cell_type": "markdown",
   "id": "joined-chancellor",
   "metadata": {},
   "source": [
    "# Solve Luby-transformations"
   ]
  },
  {
   "cell_type": "code",
   "execution_count": null,
   "id": "informal-laugh",
   "metadata": {},
   "outputs": [],
   "source": [
    "input_data = [] # deze moet in de mainfile komen\n",
    "def input_data(segment_indices, decoded_rs):\n",
    "    segment = decoded_rs[32:len(decoded_rs)]\n",
    "    segmentlist += [segment_indices, segment]\n",
    "    return input_data"
   ]
  },
  {
   "cell_type": "code",
   "execution_count": null,
   "id": "failing-arrest",
   "metadata": {},
   "outputs": [],
   "source": [
    "nr_segments = 5 #deze komt uit de extra oligo die we willen maken\n",
    "output_data = {} # moet in de mainfile\n",
    "\n",
    "def Decoding_step1and2(input_data, output_data):\n",
    "    for droplet in input_data:\n",
    "        segment_indices = droplet[0]\n",
    "        XOR = droplet[1]\n",
    "        remaining_segments = []\n",
    "        for i in range(len(segment_indices)):\n",
    "            if segment_indices[i] in output_data:\n",
    "                dif = int(XOR,2) ^ int(output_data[segment_indices[i]],2)\n",
    "                XOR = '{0:0{1}b}'.format(dif,len(droplet[1]))\n",
    "            else:\n",
    "                remaining_segments.append(segment_indices[i])    \n",
    "\n",
    "        if len(remaining_segments)==1:\n",
    "            output_data[remaining_segments[0]] = XOR\n",
    "            newsolves=1\n",
    "            while newsolves>0: \n",
    "                startsolves = len(output_data)\n",
    "                Decoding_step1and2(input_data, output_data)\n",
    "                endsolves = len(output_data)\n",
    "                newsolves = endsolves-startsolves\n",
    "    return output_data\n",
    "\n",
    "# Van dit stuk hieronder weet ik niet of het ook gewoon in de def zou kunnen?                \n",
    "output_data = Decoding_step1and2(input_data, output_data)\n",
    "\n",
    "##add in a check to see if all segments have been solved.\n",
    "#are all values from 0 to last segment keys in the dictionary\n",
    "if len(output_data)==nr_segments:\n",
    "    solution = ''.join([output_data[x] for x in range(nr_segments)])\n",
    "else:\n",
    "    solution = 'solution could not be reached, use another more robust method'\n",
    "solution\n"
   ]
  },
  {
   "cell_type": "markdown",
   "id": "champion-challenge",
   "metadata": {},
   "source": [
    "# Unrandomize"
   ]
  },
  {
   "cell_type": "code",
   "execution_count": null,
   "id": "through-processor",
   "metadata": {},
   "outputs": [],
   "source": [
    "def unrandomize(solution, keygenseed) -> bytearray:\n",
    "    # unrandomize the message one byte at a time, using a known keygenseed.\n",
    "    unrandomized = bytearray(len(solution))\n",
    "    for i in range(len(solution)):\n",
    "        key = generate_key(keygenseed)\n",
    "        keygenseed += 1\n",
    "        unrandomized[i] = key ^ solution[i]\n",
    "    return unrandomized"
   ]
  },
  {
   "cell_type": "markdown",
   "id": "endless-bridges",
   "metadata": {},
   "source": [
    "# Return original file"
   ]
  },
  {
   "cell_type": "code",
   "execution_count": null,
   "id": "loaded-daily",
   "metadata": {},
   "outputs": [],
   "source": [
    "def original_data(unrandomized):\n",
    "    original_data = unrandomized.decode()\n",
    "    return original_data"
   ]
  }
 ],
 "metadata": {
  "kernelspec": {
   "display_name": "Python 3",
   "language": "python",
   "name": "python3"
  },
  "language_info": {
   "codemirror_mode": {
    "name": "ipython",
    "version": 3
   },
   "file_extension": ".py",
   "mimetype": "text/x-python",
   "name": "python",
   "nbconvert_exporter": "python",
   "pygments_lexer": "ipython3",
   "version": "3.8.8"
  }
 },
 "nbformat": 4,
 "nbformat_minor": 5
}
