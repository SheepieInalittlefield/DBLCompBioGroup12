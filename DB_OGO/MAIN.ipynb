{
 "cells": [
  {
   "cell_type": "code",
   "execution_count": 41,
   "metadata": {},
   "outputs": [
    {
     "name": "stdout",
     "output_type": "stream",
     "text": [
      "The autoreload extension is already loaded. To reload it, use:\n",
      "  %reload_ext autoreload\n"
     ]
    }
   ],
   "source": [
    "## import libraries\n",
    "%load_ext autoreload\n",
    "%autoreload 2\n",
    "import utilities as util\n",
    "import os\n",
    "import reedsolo\n",
    "import random\n",
    "import timeit\n",
    "import matplotlib.pyplot as plt\n",
    "import math\n",
    "import numpy as np\n",
    "import hashlib\n",
    "# import Levenshtein as lev #requires microsoft visual studio build tools"
   ]
  },
  {
   "cell_type": "code",
   "execution_count": 42,
   "metadata": {},
   "outputs": [],
   "source": [
    "##SET GLOBAL VARIABLES never changing\n",
    "# maximum allowed homopolymer length\n",
    "max_homopolymer = 3\n",
    "# range for allowed CG-content\n",
    "cg_content = (0.45,0.55)\n",
    "# number of error correcting code bytes per droplet\n",
    "ecc_bytes = 4\n",
    "# parameters of Robust Soliton (c and delta)\n",
    "robust_soliton_para = (0.001, 0.025)\n",
    "# expected loss of droplets during storage and synthesis\n",
    "loss_of_droplets = 0.05 # experimentally determined and purposefully rounded up"
   ]
  },
  {
   "cell_type": "code",
   "execution_count": 43,
   "metadata": {},
   "outputs": [],
   "source": [
    "## set variables\n",
    "# path to file to be encoded\n",
    "path = os.path.relpath(\"C:\\\\Users\\\\20192903\\\\Documents\\\\DB_OGO\\\\input_data\\\\Lorem ipsum 2mb.txt\")\n",
    "# percentage extra segments created (so if extra = 1.07, a file of 10000 segments gets turned into 10700 droplets)\n",
    "# extra = 1.08#can be better calculated with the Robust soliton distribution and approximated rate of failure in storage/synthesis\n",
    "\n",
    "# filename of encoded droplet DNA strands\n",
    "DNA_filename = \"DNA_strands.txt\"\n",
    "# filename of results from simulation\n",
    "collapsed_filename = \"sequenced.txt\"\n",
    "#filename of final result\n",
    "result_filename = \"recovered.txt\"\n",
    "# Whether or not to correct the droplets using RS\n",
    "correct = True"
   ]
  },
  {
   "cell_type": "code",
   "execution_count": 44,
   "metadata": {},
   "outputs": [],
   "source": [
    "def Encode(file_path, robust_soliton_para, loss_of_droplets, max_homopolymer = 3, cg_content= (0.45,0.55), ecc_bytes=4) -> list:\n",
    "    \"\"\" Read and encode a file using the luby transform, returning a list of DNA sequences\n",
    "    INPUT:\n",
    "    file_path: path to the file to be encoded\n",
    "    seed:  seed for the randomization of data\n",
    "    extra: amount of extra droplets compared to data (default 5%, so 1.05)\n",
    "    max_homopolymer: maximum length of homopolymer sequences allowed (default 3)\n",
    "    OUTPUT:\n",
    "    droplets: list of DNA sequences\n",
    "    \"\"\"\n",
    "    # first read file\n",
    "    with open(\"checked_seedlist.txt\" , \"r\") as f:\n",
    "        seedlist = f.read().splitlines()\n",
    "    data = util.OpenFile(file_path)\n",
    "    # make bytearray from data\n",
    "    data = bytearray(data)\n",
    "    # determine how many segments the data will consist of and use it as a seed for randomization\n",
    "    data = util.Bytearray2Binary(data)\n",
    "    randomise_seed = math.ceil(len(data)/256)\n",
    "    data = util.Binary2Bytearray(data)\n",
    "    # randomize the data \n",
    "    data = util.RandomizeMessage(data, randomise_seed)\n",
    "    # data needs to be converted to string for segmentation\n",
    "    data = util.Bytearray2Binary(data)\n",
    "    # add padding and segment\n",
    "    data = util.Segment(data)\n",
    "    # now the luby transform needs to be applied\n",
    "    \n",
    "    total_segments = len(data)\n",
    "#     print(total_segments)\n",
    "    distribution_size = total_segments\n",
    "    \n",
    "    redundancy = util.RobustSoliton(distribution_size, robust_soliton_para, True)/(1-loss_of_droplets)\n",
    "    \n",
    "    # first convert segments to bytearrays\n",
    "    data_bytearray = [util.Binary2Bytearray(segment) for segment in data]\n",
    "    \n",
    "    # create a Pseudo random number generator \n",
    "    prng = random.Random()\n",
    "    seeds_lfsr = util.LFSR() #starting an lfsr with a certain state and a polynomial for 32bits.\n",
    "    nr_droplets_probablities = util.RobustSoliton(distribution_size, robust_soliton_para)\n",
    "    droplets = []\n",
    "    droplets_required = int(redundancy*total_segments)\n",
    "    i = 0 \n",
    "    while len(droplets) < droplets_required:\n",
    "        # generate a seed for droplet making\n",
    "        seed = int(seedlist[i])\n",
    "        # create droplet\n",
    "        current_drop = util.MakeDroplet(data_bytearray, seed, prng, nr_droplets_probablities, ecc_bytes)\n",
    "        # convert drop to string and then DNA\n",
    "        current_drop = util.Binary2DNA(util.Bytearray2Binary(current_drop))\n",
    "        # check biochemical requirements and append to list of droplets if ok\n",
    "        if util.CheckBiochemicalRequirements(current_drop, max_homopolymer, cg_content):\n",
    "            droplets.append(current_drop)\n",
    "        i+=1\n",
    "    \n",
    "    ##make metadata-strands\n",
    "    metastrand = util.CreateMetaStrand(total_segments,ecc_bytes)\n",
    "    \n",
    "    for x in range(10): # now 10 for adding it in 10 times\n",
    "        droplets.append(metastrand)\n",
    "    \n",
    "    info = (total_segments, redundancy, i, len(droplets))\n",
    "    return droplets, info"
   ]
  },
  {
   "cell_type": "code",
   "execution_count": null,
   "metadata": {},
   "outputs": [
    {
     "name": "stdout",
     "output_type": "stream",
     "text": [
      "The start time of encoding is : 2891.4869547\n"
     ]
    }
   ],
   "source": [
    "starttime = timeit.default_timer()\n",
    "print(\"The start time of encoding is :\",starttime)\n",
    "\n",
    "encoded, info = Encode(path, robust_soliton_para, loss_of_droplets, max_homopolymer, cg_content, ecc_bytes)\n",
    "f = open(DNA_filename, \"w\")\n",
    "for i in encoded:\n",
    "    f.write(i + \"\\n\")\n",
    "f.close()\n",
    "\n",
    "print(\"The time of encoding is :\", timeit.default_timer() - starttime)\n",
    "print(info)"
   ]
  },
  {
   "cell_type": "markdown",
   "metadata": {},
   "source": [
    "# SIMULATION"
   ]
  },
  {
   "cell_type": "code",
   "execution_count": null,
   "metadata": {},
   "outputs": [],
   "source": [
    "def sim_seq_simple(sequences, dropout = 0.01, insert_rate = 0.00042, del_rate = 0.00188, sub_rate = 0.00407):\n",
    "    # Takes sequences as a list of unique DNA sequences and simulates: synthesis, PCR and NGS\n",
    "    # Dropout is the dropout rate (i.e. the number of sequences that are not recovered)\n",
    "    # For baselevel errors we have insert_rate for insertions, del_rate for deletions and sub_rate for substitutions.\n",
    "    # Default values for base errors are taken from https://www.nature.com/articles/nbt.4079\n",
    "    s = sequences.copy()\n",
    "    random.shuffle(s)\n",
    "    for _ in range(0, int(dropout*len(s))):\n",
    "        s.pop()\n",
    "    \n",
    "    for i in range(len(s)):\n",
    "        seq_l = list(s[i])\n",
    "        mod = 0 # Inserting messes with indexing so we skip over inserted bases using this counter\n",
    "        for base_i in range(len(seq_l)):\n",
    "            mutate_rand = random.random()\n",
    "            if mutate_rand < insert_rate:\n",
    "                # Insert random nucleotide after this base\n",
    "                seq_l.insert(base_i+mod, random.choice(['A','C', 'T', 'G']))\n",
    "                mod+=1\n",
    "            elif mutate_rand > insert_rate and mutate_rand < (del_rate+insert_rate):\n",
    "                # Delete this nucleotide (later)\n",
    "                seq_l[base_i+mod] = '_'\n",
    "            elif mutate_rand > (insert_rate+del_rate) and mutate_rand < (del_rate+insert_rate+sub_rate):\n",
    "                # Substitute base\n",
    "                seq_l[base_i+mod] = random.choice(['A', 'C', 'T', 'G'])\n",
    "        if '_' in seq_l:\n",
    "            for dels in range(seq_l.count('_')):\n",
    "                seq_l.remove('_')\n",
    "        s[i] = ''.join(seq_l)\n",
    "    return s"
   ]
  },
  {
   "cell_type": "code",
   "execution_count": null,
   "metadata": {},
   "outputs": [],
   "source": [
    "with open(\"DNA_strands.txt\", 'r') as f:\n",
    "    dropletlist = [line.rstrip('\\n') for line in f]\n",
    "sequenced = sim_seq_simple(dropletlist, dropout = 0.001, insert_rate = 0.000042, del_rate = 0.000188, sub_rate = 0.000407)\n",
    "with open(\"sequenced.txt\", \"w\") as file:\n",
    "    for i in sequenced:\n",
    "        file.write(i + \"\\n\")"
   ]
  },
  {
   "cell_type": "markdown",
   "metadata": {},
   "source": [
    "# DECODING"
   ]
  },
  {
   "cell_type": "code",
   "execution_count": null,
   "metadata": {},
   "outputs": [],
   "source": [
    "starttime = timeit.default_timer()\n",
    "\n",
    "with open(collapsed_filename, 'r') as f:\n",
    "    dropletlist = [line.rstrip('\\n') for line in f]\n",
    "\n",
    "n=0\n",
    "#check if all the droplets meet our requirements otherwise don't add them to the list of OKdroplets\n",
    "metadata = []\n",
    "OKdroplets = []\n",
    "for strand in dropletlist:\n",
    "#     if util.CheckBiochemicalRequirements(strand):\n",
    "    if util.CheckOligoLength (strand,length=144+ecc_bytes*4):\n",
    "#             if lev.distance(\"ACGTACGTACGTACGT\", strand[:16]) <= 1:\n",
    "        if strand[:16] == \"ACGTACGTACGTACGT\":\n",
    "            metadata.append(strand)\n",
    "        else:\n",
    "            OKdroplets.append(strand)\n",
    "                \n",
    "total_segments_list = [util.DecodeMetaStrand(metastrand,ecc_bytes) for metastrand in metadata]\n",
    "total_segments = max(set(total_segments_list), key = total_segments_list.count)\n",
    "print(total_segments)\n",
    "simplified_droplets = []\n",
    "corrected_droplets = []\n",
    "rsc = reedsolo.RSCodec(ecc_bytes)\n",
    "for strand in OKdroplets:\n",
    "    binary_strand = util.DNA2Binary(strand)\n",
    "    bytearray_strand = util.Binary2Bytearray(binary_strand)\n",
    "#convert the list of strings to a bytearray \n",
    "    if rsc.check(bytearray_strand)[0]:\n",
    "        droplet_seed = int(binary_strand[0:32], 2)\n",
    "        segment_amount, segment_indices = util.RecoverSeed(droplet_seed, total_segments, robust_soliton_para)\n",
    "        payload = binary_strand[32:288]\n",
    "        simplified_droplets.append((segment_indices, payload))\n",
    "        n+=1\n",
    "    elif correct:\n",
    "        try:\n",
    "            binary_strand = util.Bytearray2Binary(rsc.decode(bytearray_strand)[0])\n",
    "            droplet_seed = int(binary_strand[0:32], 2)\n",
    "            segment_amount, segment_indices = util.RecoverSeed(droplet_seed, total_segments, robust_soliton_para)\n",
    "            payload = binary_strand[32:288]\n",
    "            corrected_droplets.append((segment_indices, payload))\n",
    "        except Exception:\n",
    "            pass\n",
    "simplified_droplets += corrected_droplets\n",
    "\n",
    "print(\"The time of checking droplets is :\", timeit.default_timer() - starttime)\n",
    "print(len(simplified_droplets)-n,len(simplified_droplets),len(OKdroplets),len(dropletlist))\n",
    "#if the strand is correct according to reed-solomon, \n",
    "#make a list including the segment indices of the droplet and #their combined XOR"
   ]
  },
  {
   "cell_type": "code",
   "execution_count": null,
   "metadata": {},
   "outputs": [],
   "source": [
    "starttime = timeit.default_timer()\n",
    "\n",
    "output_data = {}\n",
    "input_data = simplified_droplets\n",
    "newsolves = 1\n",
    "while newsolves > 0:\n",
    "    input_data, output_data, newsolves = util.Decode(input_data, output_data)\n",
    "    \n",
    "print(\"The time of decoding checked droplets is :\", timeit.default_timer() - starttime)"
   ]
  },
  {
   "cell_type": "code",
   "execution_count": null,
   "metadata": {},
   "outputs": [],
   "source": [
    "if len(output_data)==total_segments:\n",
    "    solution = ''.join([output_data[x] for x in range(len(output_data))])\n",
    "    solution = util.RemovePadding(solution)\n",
    "    solution = util.RandomizeMessage(util.Binary2Bytearray(solution),len(output_data))\n",
    "else:\n",
    "    solution = bytearray(0)\n",
    "    print('solution could not be reached, use another more robust method' + str(len(output_data)))"
   ]
  },
  {
   "cell_type": "code",
   "execution_count": null,
   "metadata": {},
   "outputs": [],
   "source": [
    "file_path = path\n",
    "data = util.OpenFile(file_path)\n",
    "# make bytearray from data\n",
    "data = bytearray(data)\n",
    "data == solution"
   ]
  },
  {
   "cell_type": "code",
   "execution_count": null,
   "metadata": {},
   "outputs": [],
   "source": []
  },
  {
   "cell_type": "code",
   "execution_count": null,
   "metadata": {},
   "outputs": [],
   "source": [
    "start_time = time.time()\n",
    "output_data = {}\n",
    "input_data = []\n",
    "y = []\n",
    "\n",
    "for x in range(len(simplified_droplets)):\n",
    "    input_data.append(simplified_droplets[x])\n",
    "    newsolves = 1\n",
    "    while newsolves > 0:\n",
    "        input_data, output_data, newsolves = util.Decode(input_data, output_data)\n",
    "    y.append(len(output_data))\n",
    "print(time.time()-start_time)\n",
    "plt.plot(y)\n"
   ]
  },
  {
   "cell_type": "code",
   "execution_count": null,
   "metadata": {},
   "outputs": [],
   "source": [
    "for x in range(len(y)):\n",
    "    if y[x] == 18783:\n",
    "        print(x)\n",
    "    "
   ]
  },
  {
   "cell_type": "code",
   "execution_count": null,
   "metadata": {},
   "outputs": [],
   "source": [
    "def IdealSoliton(K) -> list: \n",
    "    \"\"\" Generate a list of probalities of length K, following ideal soliton distribution\n",
    "    INPUT:\n",
    "        K: length of list\n",
    "    OUTPUT:\n",
    "        probabilities: list of probabilities following ideal soliton distribution\n",
    "    \"\"\"\n",
    "    # initialize with the first two values, p(0) = 0 and p(1) = 1/K\n",
    "    probabilities = [0, 1/K]\n",
    "    # calculate the rest of the values using p(i) = 1/(i*(i-1))\n",
    "    probabilities += [1/(i*(i-1)) for i in range(2, K+1)]\n",
    "    return probabilities \n",
    "\n",
    "def RobustSoliton(K,c,delta, get_redundancy=False) -> list:\n",
    "    \"\"\" Generates a list of probalities of length K, following an robust soliton distribution with variables c and delta.\n",
    "    INPUT:\n",
    "        K: length of list\n",
    "        c: value of c variable in distribution\n",
    "        delta: value of delta variable in distribution\n",
    "    OUTPUT: either of the two\n",
    "        probabilities: list of probabilities following robust soliton distribution\n",
    "        Z: the factor of amount of droplets needed to decode this with a certainty delta \n",
    "    \"\"\"\n",
    "    #initialize with the ideal distribution\n",
    "    probabilities = IdealSoliton(K)\n",
    "    # Define R\n",
    "    R = c*(math.log(K/delta)**2)*math.sqrt(K)\n",
    "    # calculate the additional probabilities\n",
    "    pivot = int(math.floor(K/R))\n",
    "    robust_probabilities = [0] + [R/(i*K) for i in range(1, pivot)]\n",
    "    robust_probabilities += [(R*math.log(R/delta))/K]\n",
    "    robust_probabilities += [0 for i in range(pivot,K)]\n",
    "    # add together\n",
    "    probabilities = np.add(robust_probabilities, probabilities)\n",
    "    #normalize \n",
    "    Z=np.sum(probabilities)\n",
    "    probabilities /= np.sum(probabilities)\n",
    "    if get_redundancy:\n",
    "        return Z\n",
    "    else:\n",
    "        return probabilities\n",
    "\n",
    "Z=RobustSoliton(19000, 0.001, 0.025, True)\n",
    "plt.plot(Z)\n",
    "print(Z, Z/0.94)\n"
   ]
  }
 ],
 "metadata": {
  "kernelspec": {
   "display_name": "Python 3",
   "language": "python",
   "name": "python3"
  },
  "language_info": {
   "codemirror_mode": {
    "name": "ipython",
    "version": 3
   },
   "file_extension": ".py",
   "mimetype": "text/x-python",
   "name": "python",
   "nbconvert_exporter": "python",
   "pygments_lexer": "ipython3",
   "version": "3.7.3"
  }
 },
 "nbformat": 4,
 "nbformat_minor": 2
}
