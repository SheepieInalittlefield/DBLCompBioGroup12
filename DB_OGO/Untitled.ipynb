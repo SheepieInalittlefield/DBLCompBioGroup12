{
 "cells": [
  {
   "cell_type": "code",
   "execution_count": 20,
   "metadata": {},
   "outputs": [
    {
     "name": "stdout",
     "output_type": "stream",
     "text": [
      "2.0804462232332277 2.213240663014072\n"
     ]
    },
    {
     "data": {
      "image/png": "[encoded data removed]",
      "text/plain": [
       "<Figure size 432x288 with 1 Axes>"
      ]
     },
     "metadata": {
      "needs_background": "light"
     },
     "output_type": "display_data"
    }
   ],
   "source": [
    "import math\n",
    "import numpy as np\n",
    "import matplotlib.pyplot as plt\n",
    "def IdealSoliton(K) -> list: \n",
    "    \"\"\" Generate a list of probalities of length K, following ideal soliton distribution\n",
    "    INPUT:\n",
    "        K: length of list\n",
    "    OUTPUT:\n",
    "        probabilities: list of probabilities following ideal soliton distribution\n",
    "    \"\"\"\n",
    "    # initialize with the first two values, p(0) = 0 and p(1) = 1/K\n",
    "    probabilities = [0, 1/K]\n",
    "    # calculate the rest of the values using p(i) = 1/(i*(i-1))\n",
    "    probabilities += [1/(i*(i-1)) for i in range(2, K+1)]\n",
    "    return probabilities \n",
    "\n",
    "def RobustSoliton(K,c,delta, get_redundancy=False) -> list:\n",
    "    \"\"\" Generates a list of probalities of length K, following an robust soliton distribution with variables c and delta.\n",
    "    INPUT:\n",
    "        K: length of list\n",
    "        c: value of c variable in distribution\n",
    "        delta: value of delta variable in distribution\n",
    "    OUTPUT: either of the two\n",
    "        probabilities: list of probabilities following robust soliton distribution\n",
    "        Z: the factor of amount of droplets needed to decode this with a certainty delta \n",
    "    \"\"\"\n",
    "    #initialize with the ideal distribution\n",
    "    probabilities = IdealSoliton(K)\n",
    "    # Define R\n",
    "    R = c*(math.log(K/delta)**2)*math.sqrt(K)\n",
    "    # calculate the additional probabilities\n",
    "    pivot = int(math.floor(K/R))\n",
    "    robust_probabilities = [0] + [R/(i*K) for i in range(1, pivot)]\n",
    "    robust_probabilities += [(R*math.log(R/delta))/K]\n",
    "    robust_probabilities += [0 for i in range(pivot,K)]\n",
    "    # add together\n",
    "    probabilities = np.add(robust_probabilities, probabilities)\n",
    "    #normalize \n",
    "    Z=np.sum(probabilities)\n",
    "    probabilities /= np.sum(probabilities)\n",
    "    if get_redundancy:\n",
    "        return Z\n",
    "    else:\n",
    "        return probabilities\n",
    "\n",
    "Z=RobustSoliton(10000, 0.025, 0.001, True)\n",
    "plt.plot(Z)\n",
    "print(Z, Z/0.94)\n"
   ]
  }
 ],
 "metadata": {
  "kernelspec": {
   "display_name": "Python 3",
   "language": "python",
   "name": "python3"
  },
  "language_info": {
   "codemirror_mode": {
    "name": "ipython",
    "version": 3
   },
   "file_extension": ".py",
   "mimetype": "text/x-python",
   "name": "python",
   "nbconvert_exporter": "python",
   "pygments_lexer": "ipython3",
   "version": "3.7.3"
  }
 },
 "nbformat": 4,
 "nbformat_minor": 2
}
