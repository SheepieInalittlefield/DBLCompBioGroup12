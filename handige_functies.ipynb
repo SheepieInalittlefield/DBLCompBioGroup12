{
 "cells": [
  {
   "cell_type": "markdown",
   "metadata": {},
   "source": [
    "# Useful functions\n",
    "Some functions that might not be obvious but are helpful to interact with files and such. In general it's good to load these libraries to get started."
   ]
  },
  {
   "cell_type": "code",
   "execution_count": 2,
   "metadata": {},
   "outputs": [],
   "source": [
    "import numpy as np\n",
    "import random\n",
    "import hashlib"
   ]
  },
  {
   "cell_type": "markdown",
   "metadata": {},
   "source": [
    "## Read a file to get the bitstream (1s and 0s)"
   ]
  },
  {
   "cell_type": "code",
   "execution_count": 17,
   "metadata": {},
   "outputs": [],
   "source": [
    "def get_raw_bits(file):\n",
    "    # Read a file and return an array of bits\n",
    "    dat = np.fromfile(file, dtype='uint8')\n",
    "    return list(np.unpackbits(dat))"
   ]
  },
  {
   "cell_type": "markdown",
   "metadata": {},
   "source": [
    "## Check a file is really the same\n",
    "Some file formats, such as jpeg or png, have built-in error correction so sometimes visual inspection might not reveal errors that happened during decoding. This function compares two files and returns a boolean answer."
   ]
  },
  {
   "cell_type": "code",
   "execution_count": 19,
   "metadata": {},
   "outputs": [],
   "source": [
    "def compare_files(file1, file2):\n",
    "    # Compare file1 and file2 using SHA256 checksum, if they are the same return True else return False\n",
    "    with open(file1, 'rb') as fi:\n",
    "        data1 = fi.read()\n",
    "    hash1 = hashlib.sha256(data1).hexdigest()\n",
    "    with open(file2, 'rb') as fi:\n",
    "        data2 = fi.read()\n",
    "    hash2 = hashlib.sha256(data2).hexdigest()\n",
    "    return hash1 == hash2"
   ]
  },
  {
   "cell_type": "markdown",
   "metadata": {},
   "source": [
    "## Filling out arrays\n",
    "Two functions that can be used to pad an array out at the beginning or end."
   ]
  },
  {
   "cell_type": "code",
   "execution_count": 22,
   "metadata": {},
   "outputs": [],
   "source": [
    "def pad_b_arr(array, size, padding=0):\n",
    "    # Pads out array to size with padding (default 0) at beginning\n",
    "    while len(array)<size:\n",
    "        array.insert(0, 0)\n",
    "    return array\n",
    "\n",
    "def pad_e_arr(array, size, padding=0):\n",
    "    # Pads out array to size with padding (default 0) at end\n",
    "    while len(array)<size:\n",
    "        array.insert(len(array), padding)\n",
    "    return array"
   ]
  },
  {
   "cell_type": "markdown",
   "metadata": {},
   "source": [
    "# Simulating synthesis, PCR and sequencing"
   ]
  },
  {
   "cell_type": "code",
   "execution_count": 23,
   "metadata": {},
   "outputs": [],
   "source": [
    "def sim_seq_simple(sequences, dropout = 0.01, insert_rate = 0.00042, del_rate = 0.00188, sub_rate = 0.00407):\n",
    "    # Takes sequences as a list of unique DNA sequences and simulates: synthesis, PCR and NGS\n",
    "    # Dropout is the dropout rate (i.e. the number of sequences that are not recovered)\n",
    "    # For baselevel errors we have insert_rate for insertions, del_rate for deletions and sub_rate for substitutions.\n",
    "    # Default values for base errors are taken from https://www.nature.com/articles/nbt.4079\n",
    "    s = sequences.copy()\n",
    "    random.shuffle(s)\n",
    "    for _ in range(0, int(dropout*len(s))):\n",
    "        s.pop()\n",
    "    \n",
    "    for i in range(len(s)):\n",
    "        seq_l = list(s[i])\n",
    "        mod = 0 # Inserting messes with indexing so we skip over inserted bases using this counter\n",
    "        for base_i in range(len(seq_l)):\n",
    "            mutate_rand = random.random()\n",
    "            if mutate_rand < insert_rate:\n",
    "                # Insert random nucleotide after this base\n",
    "                seq_l.insert(base_i+mod, random.choice(['A','C', 'T', 'G']))\n",
    "                mod+=1\n",
    "            elif mutate_rand > insert_rate and mutate_rand < (del_rate+insert_rate):\n",
    "                # Delete this nucleotide (later)\n",
    "                seq_l[base_i+mod] = '_'\n",
    "            elif mutate_rand > (insert_rate+del_rate) and mutate_rand < (del_rate+insert_rate+sub_rate):\n",
    "                # Substitute base\n",
    "                seq_l[base_i+mod] = random.choice(['A', 'C', 'T', 'G'])\n",
    "        if '_' in seq_l:\n",
    "            for dels in range(seq_l.count('_')):\n",
    "                seq_l.remove('_')\n",
    "        s[i] = ''.join(seq_l)\n",
    "    return s"
   ]
  },
  {
   "cell_type": "code",
   "execution_count": 24,
   "metadata": {},
   "outputs": [],
   "source": [
    "def binorm_sim(n, p=0.95, cyc=10):\n",
    "    # simulate the number of molecules after \"c\" cycle\n",
    "    # n: number of template molecules\n",
    "    # p: probability of success PCR\n",
    "    for i in range(cyc):\n",
    "        n += np.random.binomial(n, p, 1)\n",
    "    return n.item(0)\n",
    "\n",
    "def mutate(seq, insert_rate = 0.00008, del_rate = 0.00144, sub_rate = 0.00298):\n",
    "    # Mutate a single sequence based on previously observed error rates\n",
    "    seq_l = list(seq)\n",
    "    mod = 0 # Inserting messes with indexing so we skip over inserted bases using this counter\n",
    "    for base_i in range(len(seq_l)):\n",
    "        mutate_rand = random.random()\n",
    "        if mutate_rand < insert_rate:\n",
    "            # Insert random nucleotide after this base\n",
    "            seq_l.insert(base_i+mod, random.choice(['A','C', 'T', 'G']))\n",
    "            mod+=1\n",
    "        elif mutate_rand > insert_rate and mutate_rand < (del_rate+insert_rate):\n",
    "            # Delete this nucleotide (later)\n",
    "            seq_l[base_i+mod] = '_'\n",
    "        elif mutate_rand > (insert_rate+del_rate) and mutate_rand < (del_rate+insert_rate+sub_rate):\n",
    "            # Substitute base\n",
    "            seq_l[base_i+mod] = random.choice(['A', 'C', 'T', 'G'])\n",
    "    if '_' in seq_l:\n",
    "        for dels in range(seq_l.count('_')):\n",
    "            seq_l.remove('_')\n",
    "    return ''.join(seq_l)\n",
    "\n",
    "def sim_full(seqs, dilution=8, cov=10, p_PCR=0.95, cyc_PCR=18, error_rates=[0.00008, 0.00144, 0.00298]):\n",
    "    # Simulates a full experiment from synthesis, PCR to sequencing\n",
    "    # This is based on the model in fig 5b of https://www.nature.com/articles/s41467-020-16958-3\n",
    "    # INPUT: an array of all sequences that should be ordered to write a file to DNA\n",
    "    # OUTPUT: an array of sequences that can be expected to be returned from a typical experiment\n",
    "    #\n",
    "    # PARAMETERS\n",
    "    # dilution: how many molecules per sequences are present in a diluted pool on average (default 8)\n",
    "    # cov: average coverage during sequencing, ie how many times a sequence is read (default 18)\n",
    "    # p_PCR: chance of succesfull replication during PCR (default 0.95)\n",
    "    # cyc_PCR: how many PCR cycles are used for amplification (default 10)\n",
    "    # error_rates: array for error rates per base [insertions, deletions, substitutions] (default [0.00008, 0.00144, 0.00298])\n",
    "    \n",
    "    n_seqs = len(seqs)\n",
    "    indices = list(range(n_seqs)) # UMI for each sequence\n",
    "    \n",
    "    ## Simulate synthesis on an array and dilution down to 8 average copies per sequence\n",
    "    mol_counts = np.random.normal(loc=10**3, scale=int(3.2e2), size=n_seqs) # How many copies after synthesis (scaled down)\n",
    "    copies_Syn = np.concatenate([np.repeat(idx, int(c)) for idx, c in zip(indices, mol_counts)])\n",
    "    in_sample = np.random.choice(copies_Syn, size=n_seqs*dilution, replace=False)\n",
    "    counts = np.bincount(in_sample)\n",
    "    \n",
    "    ## Simulate the PCR process\n",
    "    post_PCR = [0 for idx in indices]\n",
    "    for idx in indices:\n",
    "        post_PCR[idx] = binorm_sim(counts[idx], p=p_PCR, cyc=cyc_PCR)\n",
    "    copies_PCR = np.concatenate([np.repeat(idx, int(c)) for idx, c in zip(indices, post_PCR)])\n",
    "    sequenced_UMI = np.random.choice(copies_PCR, size=n_seqs*cov, replace=False) # UMIs of molecules in sequencing result\n",
    "    \n",
    "    ## Sprinkle in some errors\n",
    "    final_seqs = [0 for _ in range(len(sequenced_UMI))]\n",
    "    for i, UMI in enumerate(sequenced_UMI):\n",
    "        final_seqs[i] = mutate(seqs[UMI], error_rates[0], error_rates[1], error_rates[2])\n",
    "    return final_seqs"
   ]
  },
  {
   "cell_type": "code",
   "execution_count": 26,
   "metadata": {},
   "outputs": [
    {
     "data": {
      "text/plain": [
       "['CTGAAATAAATAAATAAGAGTCTACCCTGATCCATTGCTTTATTTACCGAGTCTTATATACCCCATTGCCTTCCCACTAGAGTCTCACCTGATCCATTGCTTTATTACCGAGTCTTATCCATACCATTGCCAAACCATTAGAGTCAAACCTTCAGCACTGCCTATCGTTCCGTCCTAACCA',\n",
       " 'CTGAAATAAATAAATAGAGTCTACCCTGATCCATTGCTTTATTTACCGAGTCTTATATACCCCATTGCCTTCCCACTAGAGTCTCACCTGATCCATTGCTTTATTTACCGAGTCTTATCCATACCATTGCCAAACCATTAGAGTCAAACCTTCAGCACTGCCTATCGTTCCGTCCTAACCA',\n",
       " 'GCAGTTGTTTGTACTGTGATGCTCTTCCCTGATCCATTGCTTTATTTACCGAGTCTTATCTGATCCATTGCCTAACCCACCGAGTCCTTTCTGATCCATTGCTACCACCTCCGAGTCTAACCTTCAGCATTGCCCAAGGTTCTGAGCGAAATG',\n",
       " 'CTGAAATAAATAAATAGAGTCTACCCTGATCCATTGCTTTATTTACCGAGTCTTATATACCCCATTGCCTTCCCACTAGAGTCTCACCTGATCCATTGCTTTATTTACCGAGTCTTATCCATACCATTGCCAAACCATTAGAGTCAAACCTTCAGCACTGCCTTTCGTTCCGTCCTAACCA',\n",
       " 'CTGAAATAAATAAATAGAGTCTACCCTGATCCATTGCTTTATTTACCGAGTCTTATATACCCCATTGCCTTCCCACTAGAGTCTCACCTGATCCATTGCTTTATTTACCGAGTCTTATCCATACCATTGCCAAACCATTAGAGTCAAACCTTCAGCACTGCCTATCGTTCCGTCCTAACCA',\n",
       " 'GCCGTTGTTTGTACTGTGATGCTCTTCCCTGATCCATTGCTTTATTTACCGAGTCTTATCTGATCCATTGCCTAACCCACCGAGTCCTTTCTGATCCATTGCTACCACCTCCGAGTCTAACCTCAGCATTGCCCAAGGTTCTGAGCGAAATG',\n",
       " 'CTGAAATAAATAAATAGAGTCTACCCTGATCCATTGCTTTATTTACCGAGTCTTATATACGCCATTGCCTTCCCACTAGAGTCTCACCTGATCCATTGCTTTATTTACCGAGTCTTATCCATACCAGTGCCAAACCATTAGAGTCAAACCTTCAGCACTGCCTATCGTTCCGTCCTAACCA',\n",
       " 'GCCGTTGTTTGTACTGTGATGCTCTTCCCTGATCCATTGCTTTATTTACCGAGTCTTATCTGATCCATTGCCTAACCCACCGAGTCCTTTCTGATCCATTGCTACCACCTCCGAGTCTAACCTTCAGCATTGCCCAAGGTTCTGAGCGAAATG',\n",
       " 'CTGAAATAAATAAATAGAGTCTACCCTGATCCATTGCTTTATTTACCGAGTCTTATATACCCCATTGCCTTCCCACTAGAGTCTCACCTGATCCATTGCTTTATTTACCGAGTCTTATCCATACCATTGCCAAACCATTAGAGTCAAACCTTCAGCACTGCCTATCGTTCCGTCCTAACCA',\n",
       " 'CTGAAATAAATAAATAGAGTCTACCCTGATCCATTGCTTTATTTACCGAGTCTTATATACCCCATTGCCTTCCCACTAGAGTCTCACCTGATCCATTGCTTTATTTACCGAGTCTTATCCATACCATTGCCAAACCATTAGAGTCAAACCTTCAGCACTGCCTATCGTTCCGTCCTAACCA',\n",
       " 'CTGAAATAAATAAATAGAGTCTACCCTGATCCATTGCTTTATTTACCGAGTCTTATATACCCCATTGCCTTCCCACTAGAGTCTCACCTGATCCATTGCTTTATTTACCGCGTCTTATCCATACCATTGCCAAACCATTAGAGTCAAACCTTCAGCACTGCCTATCGTTCCGTCCTAACCA',\n",
       " 'GCCGTTGTTTGTACTGTGATGCTCTTCCCTGATCCATTGCTTTATTTACCGAGTCTTATCTGATCCATTGCTAACCCACCGAGTCCTTTCTGATCCATTGCTACCACCTTCGAGTCTAACCTTCAGCATTGCCCAAGGTTCTGAGCGAAATG',\n",
       " 'CTGAAATAAATAAATAGAGTCTACCCTGATCCATTGCTTTATTTACCGAGTCTTATATACCCCATTGCCTTCCCACTAGAGTCTCACCTGATCCATTGCTTTATTTACCGAGTCTTATCCATACCATTGCCAAACCATTAGAGTCAAACCTTCAGCACTGCCTATCGTTCCGTCCTAACCA',\n",
       " 'GCCGTTGTTTGTACTGTGATGCTCTTCCCTGATACATTGCTTTATTTACTGAGTCTTATCTGATCCATTGCCTAACCCACCGAGTCCTTTCTTATCCATTGCTACCACCTCCGAGTCTAACCTTCAGCATTGCCCAAGGTTCTGAGCGAAATG',\n",
       " 'CTGAAATAAATAAATAGAGTCTACCCTGATCCATTGCTTTATTTACCGAGTCTTATATACCCCATTGCCTTCCCACTAGAGTCTCACCTGATCCATTGCTTTATTTACCGAGTCTTATCCATACCATTGCCAAACCATTAGAGTCAAACCTTCAGCACTGCCTATCGTTCCGTCCTAACCA',\n",
       " 'GCCGTTGTTTGTACTGTGATGCTCTTCCCTGATCCATTGCTTTATTTACCGAGTCTTATCTGATCCATTGCCTAACCCACCGAGTCCTTTCTGATCCATTGCTACCACCTCCGAGTCTAACCTTCAGCATTGCCCAAGGTTCTGAGCGAAATG',\n",
       " 'GCCGTTGTTTGTACTGTGATGCTCTTCCCTGATCCATTGCTTTATTTACCGAGTCTTATCTGATCCATTGCCTAACCCACCGAGTCCTTTCTGATCCATTGCTACCACCTCCGAGTCTAACCTTCAGCATTGCCCAAGGTTCTGAGCGAAATG',\n",
       " 'CTGAAATAAATAAATAGAGTCTACCCTGATCCATTGCTTTATTTACCGAGTCTTATATACCCCATTGCCTTCCCACTAGAGTCTCACCTGATCCATTGCTTTATTTACCGAGTCTTATCCATACCATTGCCAAACCATTAGAGTCAAACCTTCTGCACTGCCTATCGTTCCGTCCTAACCA',\n",
       " 'GCCGTTGTTTGTACTGTGATGCTCTTCCCTGATCCATTGCTTTATTTACCGAGTCTTATCTGATCCATTGCCTAACCCACCGAGTCCTTTCTGATCCATTGCTACCACCTCCGAGTCTAACCTTCAGCATTGCCCAAGGTTCTGAGCGAAATG',\n",
       " 'CTGAAATAAATAAAGAGAGTCTACCCTGATCCATTGCTTTATTTACCGAGTCTTATATACCCCATTGCCTTCCCACTAGAGTCTCACCTGATCCATTGCTTTATTTACCGAGTCTTATCCATACCATTGCCAAACCATTAGAGTCAAACCTTCAGCACTGCCTATCGTTCCGTCCTAACCA']"
      ]
     },
     "execution_count": 26,
     "metadata": {},
     "output_type": "execute_result"
    }
   ],
   "source": [
    "sim_full(['CTGAAATAAATAAATAGAGTCTACCCTGATCCATTGCTTTATTTACCGAGTCTTATATACCCCATTGCCTTCCCACTAGAGTCTCACCTGATCCATTGCTTTATTTACCGAGTCTTATCCATACCATTGCCAAACCATTAGAGTCAAACCTTCAGCACTGCCTATCGTTCCGTCCTAACCA', \n",
    "          'GCCGTTGTTTGTACTGTGATGCTCTTCCCTGATCCATTGCTTTATTTACCGAGTCTTATCTGATCCATTGCCTAACCCACCGAGTCCTTTCTGATCCATTGCTACCACCTCCGAGTCTAACCTTCAGCATTGCCCAAGGTTCTGAGCGAAATG'])"
   ]
  },
  {
   "cell_type": "code",
   "execution_count": null,
   "metadata": {},
   "outputs": [],
   "source": []
  }
 ],
 "metadata": {
  "kernelspec": {
   "display_name": "Python 3",
   "language": "python",
   "name": "python3"
  },
  "language_info": {
   "codemirror_mode": {
    "name": "ipython",
    "version": 3
   },
   "file_extension": ".py",
   "mimetype": "text/x-python",
   "name": "python",
   "nbconvert_exporter": "python",
   "pygments_lexer": "ipython3",
   "version": "3.6.5"
  }
 },
 "nbformat": 4,
 "nbformat_minor": 4
}
