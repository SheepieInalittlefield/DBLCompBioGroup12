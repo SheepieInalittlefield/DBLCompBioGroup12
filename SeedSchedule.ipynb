{
 "cells": [
  {
   "cell_type": "code",
   "execution_count": 5,
   "metadata": {
    "scrolled": false
   },
   "outputs": [
    {
     "name": "stdout",
     "output_type": "stream",
     "text": [
      "170\n",
      "340\n",
      "680\n",
      "1360\n",
      "2720\n",
      "5440\n",
      "10880\n",
      "21760\n",
      "43520\n",
      "87040\n",
      "174080\n",
      "348160\n",
      "696320\n",
      "1392640\n",
      "2785280\n",
      "5570560\n",
      "11141120\n",
      "22282240\n",
      "44564480\n",
      "89128960\n",
      "178257920\n",
      "356515840\n",
      "713031680\n",
      "1426063360\n",
      "2852126720\n",
      "1409286341\n",
      "2818572682\n",
      "1342178257\n",
      "2684356514\n",
      "1073745793\n",
      "2147491586\n",
      "16065\n",
      "32130\n",
      "64260\n",
      "128520\n",
      "257040\n",
      "514080\n",
      "1028160\n",
      "2056320\n",
      "4112640\n"
     ]
    }
   ],
   "source": [
    "def lfsr(state, mask):\n",
    "    #Galois lfsr:\n",
    "    result = state #Set the first state of the register\n",
    "    nbits = mask.bit_length()-1\n",
    "    while True:\n",
    "        result = (result << 1) #Shift the register left once\n",
    "        xor = result >> nbits #Shift the register right by the amount of bits in the mask -1\n",
    "        if xor != 0: #XOR is useless if it is 0\n",
    "            result ^= mask #XOR the state of the register with the mask\n",
    "\n",
    "        yield result\n",
    "\n",
    "def lfsr32p():\n",
    "    #this function returns a hard coded polynomial (0b100000000000000000000000011000101).\n",
    "    #The polynomial corresponds to 1 + x^25 + x^26 + x^30 + x^32, which is known \n",
    "    #to repeat only after 32^2-1 tries. Don't change unless you know what you are doing.\n",
    "    return 0b100000000000000000000000011000101\n",
    "\n",
    "def lfsr32s():\n",
    "    #this function returns a hard coded state for the lfsr (0b001010101)\n",
    "    #this state is the inital position in the register. You can change it without a major implication.\n",
    "    return 0b001010101\n",
    "\n",
    "\n",
    "        \n",
    "lfsr = lfsr(lfsr32s(), lfsr32p()) #starting an lfsr with a certain state and a polynomial for 32bits.\n",
    "lfsr_l = len(    '{0:b}'.format( lfsr32p() )   ) - 1 #calculate the length of lsfr in bits \n",
    "for i in range(40):\n",
    "    seed=next(lfsr)\n",
    "    print(seed)"
   ]
  },
  {
   "cell_type": "code",
   "execution_count": null,
   "metadata": {},
   "outputs": [],
   "source": []
  },
  {
   "cell_type": "code",
   "execution_count": null,
   "metadata": {},
   "outputs": [],
   "source": []
  }
 ],
 "metadata": {
  "kernelspec": {
   "display_name": "Python 3",
   "language": "python",
   "name": "python3"
  },
  "language_info": {
   "codemirror_mode": {
    "name": "ipython",
    "version": 3
   },
   "file_extension": ".py",
   "mimetype": "text/x-python",
   "name": "python",
   "nbconvert_exporter": "python",
   "pygments_lexer": "ipython3",
   "version": "3.7.3"
  }
 },
 "nbformat": 4,
 "nbformat_minor": 2
}
